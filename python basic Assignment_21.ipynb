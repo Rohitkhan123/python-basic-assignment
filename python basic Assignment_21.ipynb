{
 "cells": [
  {
   "cell_type": "markdown",
   "id": "7de63dab",
   "metadata": {},
   "source": [
    "### assignment 21"
   ]
  },
  {
   "cell_type": "markdown",
   "id": "f21465a4",
   "metadata": {},
   "source": [
    "##### ques 1. Add the current date to the text file today.txt as a string."
   ]
  },
  {
   "cell_type": "code",
   "execution_count": 2,
   "id": "9f6150a5",
   "metadata": {},
   "outputs": [
    {
     "name": "stdout",
     "output_type": "stream",
     "text": [
      "04-04-2022\n"
     ]
    }
   ],
   "source": [
    "import datetime\n",
    "# Code to Add current date to the today.txt file\n",
    "file = open('today.txt','w')\n",
    "file.write(datetime.datetime.now().strftime(\"%d-%m-%Y\"))\n",
    "file.close()\n",
    "# Code to Read current date from today.txt file\n",
    "file = open('today.txt','r')\n",
    "print(file.read())\n",
    "file.close()"
   ]
  },
  {
   "cell_type": "markdown",
   "id": "e3d0cc38",
   "metadata": {},
   "source": [
    "##### ques 2. Read the text file today.txt into the string today_string"
   ]
  },
  {
   "cell_type": "code",
   "execution_count": 3,
   "id": "660c967d",
   "metadata": {},
   "outputs": [
    {
     "name": "stdout",
     "output_type": "stream",
     "text": [
      "04-04-2022\n"
     ]
    }
   ],
   "source": [
    "file = open('today.txt','r')\n",
    "today_string = file.read()\n",
    "print(today_string)"
   ]
  },
  {
   "cell_type": "markdown",
   "id": "7a848588",
   "metadata": {},
   "source": [
    "##### ques 3. Parse the date from today_string."
   ]
  },
  {
   "cell_type": "code",
   "execution_count": 5,
   "id": "9c1536b7",
   "metadata": {},
   "outputs": [
    {
     "name": "stdout",
     "output_type": "stream",
     "text": [
      "2022-04-04 00:00:00\n"
     ]
    }
   ],
   "source": [
    "from datetime import datetime\n",
    "parsed_data = datetime.strptime(today_string, '%d-%m-%Y')\n",
    "print(parsed_data)"
   ]
  },
  {
   "cell_type": "markdown",
   "id": "ffd71570",
   "metadata": {},
   "source": [
    "##### ques 4. List the files in your current directory."
   ]
  },
  {
   "cell_type": "code",
   "execution_count": 7,
   "id": "c2a44867",
   "metadata": {},
   "outputs": [
    {
     "name": "stdout",
     "output_type": "stream",
     "text": [
      "abc.zip\n",
      "books.csv\n",
      "books.db\n",
      "books.db-journal\n",
      "hello.docx\n",
      "hellothere.docx\n",
      "mydocument.docx\n",
      "new.zip\n",
      "pic.jpg\n",
      "python basic Assignment_16.ipynb\n",
      "python basic Assignment_17.ipynb\n",
      "python basic Assignment_19.ipynb\n",
      "python basic Assignment_20.ipynb\n",
      "python basic Assignment_21.ipynb\n",
      "test.txt\n",
      "today.txt\n",
      "python basic Assignment_1-checkpoint.ipynb\n",
      "python basic Assignment_10-checkpoint.ipynb\n",
      "python basic Assignment_11-checkpoint.ipynb\n",
      "python basic Assignment_12-checkpoint.ipynb\n",
      "python basic Assignment_13-checkpoint.ipynb\n",
      "python basic Assignment_14-checkpoint.ipynb\n",
      "python basic Assignment_15-checkpoint.ipynb\n",
      "python basic Assignment_16-checkpoint.ipynb\n",
      "python basic Assignment_17-checkpoint.ipynb\n",
      "python basic Assignment_19-checkpoint.ipynb\n",
      "python basic Assignment_2-checkpoint.ipynb\n",
      "python basic Assignment_20-checkpoint.ipynb\n",
      "python basic Assignment_21-checkpoint.ipynb\n",
      "python basic Assignment_3-checkpoint.ipynb\n",
      "python basic Assignment_4-checkpoint.ipynb\n",
      "python basic Assignment_5-checkpoint.ipynb\n",
      "python basic Assignment_6-checkpoint.ipynb\n",
      "python basic Assignment_7-checkpoint.ipynb\n",
      "python basic Assignment_8-checkpoint.ipynb\n",
      "python basic Assignment_9-checkpoint.ipynb\n"
     ]
    }
   ],
   "source": [
    "import os\n",
    "for folders, subfolders, files in os.walk(os.getcwd()):\n",
    "    for file in files:\n",
    "        print(file)"
   ]
  },
  {
   "cell_type": "markdown",
   "id": "d10014eb",
   "metadata": {},
   "source": [
    "##### ques 5. Create a list of all of the files in your parent directory (minimum five files should be available)."
   ]
  },
  {
   "cell_type": "code",
   "execution_count": 8,
   "id": "0886e00b",
   "metadata": {},
   "outputs": [
    {
     "data": {
      "text/plain": [
       "['.ipynb_checkpoints',\n",
       " 'abc.zip',\n",
       " 'books.csv',\n",
       " 'books.db',\n",
       " 'books.db-journal',\n",
       " 'hello.docx',\n",
       " 'hellothere.docx',\n",
       " 'mydocument.docx',\n",
       " 'new.zip',\n",
       " 'pic.jpg',\n",
       " 'python basic Assignment_16.ipynb',\n",
       " 'python basic Assignment_17.ipynb',\n",
       " 'python basic Assignment_19.ipynb',\n",
       " 'python basic Assignment_20.ipynb',\n",
       " 'python basic Assignment_21.ipynb',\n",
       " 'test.txt',\n",
       " 'today.txt']"
      ]
     },
     "execution_count": 8,
     "metadata": {},
     "output_type": "execute_result"
    }
   ],
   "source": [
    "import os \n",
    "os.listdir()"
   ]
  },
  {
   "cell_type": "markdown",
   "id": "474194e0",
   "metadata": {},
   "source": [
    "##### ques 6. Use multiprocessing to create three separate processes. Make each one wait a random number of seconds between one and five, print the current time, and then exit."
   ]
  },
  {
   "cell_type": "code",
   "execution_count": 13,
   "id": "4ee0d9ab",
   "metadata": {},
   "outputs": [],
   "source": [
    "import multiprocessing\n",
    "import time \n",
    "import random\n",
    "import datetime\n",
    "\n",
    "def procOne():\n",
    "    print(f'Proc_one_Starttime -> {datetime.datetime.now()}')\n",
    "    time.sleep(random.randint(1,5))\n",
    "    print(f'Proc_one_Endtime -> {datetime.datetime.now()}')\n",
    "    \n",
    "def procTwo():\n",
    "    print(f'Proc_two_Starttime -> {datetime.datetime.now()}')\n",
    "    time.sleep(random.randint(1,5))\n",
    "    print(f'Proc_two_Endtime -> {datetime.datetime.now()}')\n",
    "\n",
    "def procThree():\n",
    "    print(f'Proc_two_Starttime -> {datetime.datetime.now()}')\n",
    "    time.sleep(random.randint(1,5))\n",
    "    print(f'Proc_two_Endtime -> {datetime.datetime.now()}')\n",
    "    \n",
    "if __name__ == \"__main__\":    \n",
    "    p1 = multiprocessing.Process(target=procOne)\n",
    "    p2 = multiprocessing.Process(target=procTwo)\n",
    "    p3 = multiprocessing.Process(target=procThree)\n",
    "\n",
    "    p1.start()\n",
    "    p2.start()\n",
    "    p3.start()\n",
    "\n",
    "    p1.join()\n",
    "    p2.join()\n",
    "    p3.join()"
   ]
  },
  {
   "cell_type": "markdown",
   "id": "f5dbb062",
   "metadata": {},
   "source": [
    "##### ques 7. Create a date object of your day of birth."
   ]
  },
  {
   "cell_type": "code",
   "execution_count": 14,
   "id": "370f3802",
   "metadata": {},
   "outputs": [
    {
     "name": "stdout",
     "output_type": "stream",
     "text": [
      "1999-05-12 00:00:00 <class 'datetime.datetime'>\n"
     ]
    }
   ],
   "source": [
    "from datetime import datetime\n",
    "my_dob = datetime.strptime('12/05/1999','%d/%m/%Y')\n",
    "print(my_dob, type(my_dob))"
   ]
  },
  {
   "cell_type": "markdown",
   "id": "9f8f6017",
   "metadata": {},
   "source": [
    "##### ques 8. What day of the week was your day of birth?"
   ]
  },
  {
   "cell_type": "code",
   "execution_count": 15,
   "id": "9c82716b",
   "metadata": {},
   "outputs": [
    {
     "data": {
      "text/plain": [
       "'Wednesday'"
      ]
     },
     "execution_count": 15,
     "metadata": {},
     "output_type": "execute_result"
    }
   ],
   "source": [
    "from datetime import datetime\n",
    "my_dob = datetime(1999,5,12)\n",
    "my_dob.strftime(\"%A\")"
   ]
  },
  {
   "cell_type": "markdown",
   "id": "4e43dbcd",
   "metadata": {},
   "source": [
    "##### ques 9. When will you be (or when were you) 10,000 days old?"
   ]
  },
  {
   "cell_type": "code",
   "execution_count": 17,
   "id": "1101fc4e",
   "metadata": {},
   "outputs": [
    {
     "data": {
      "text/plain": [
       "datetime.datetime(1971, 12, 25, 0, 0)"
      ]
     },
     "execution_count": 17,
     "metadata": {},
     "output_type": "execute_result"
    }
   ],
   "source": [
    "from datetime import datetime, timedelta\n",
    "my_dob = datetime.strptime(\"12/05/1999\",'%d/%m/%Y')\n",
    "future_date = my_dob-timedelta(10000)\n",
    "future_date"
   ]
  }
 ],
 "metadata": {
  "kernelspec": {
   "display_name": "Python 3 (ipykernel)",
   "language": "python",
   "name": "python3"
  },
  "language_info": {
   "codemirror_mode": {
    "name": "ipython",
    "version": 3
   },
   "file_extension": ".py",
   "mimetype": "text/x-python",
   "name": "python",
   "nbconvert_exporter": "python",
   "pygments_lexer": "ipython3",
   "version": "3.9.7"
  }
 },
 "nbformat": 4,
 "nbformat_minor": 5
}
