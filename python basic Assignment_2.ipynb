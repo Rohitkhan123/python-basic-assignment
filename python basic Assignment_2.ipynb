{
 "cells": [
  {
   "cell_type": "markdown",
   "id": "1c9e7e16",
   "metadata": {
    "slideshow": {
     "slide_type": "notes"
    }
   },
   "source": [
    "# Assignment 2 \n",
    "\n",
    "\n",
    "##### que 1.   What are the two values of the Boolean data type? How do you write them?\n",
    "\n",
    "**Ans:**.  True and False we use first letter capital T and F rest of the word in lowercase.The result of a Boolean expression is either true or false."
   ]
  },
  {
   "cell_type": "code",
   "execution_count": 6,
   "id": "05925569",
   "metadata": {},
   "outputs": [
    {
     "name": "stdout",
     "output_type": "stream",
     "text": [
      "<class 'bool'>\n",
      "<class 'bool'>\n"
     ]
    }
   ],
   "source": [
    "x =True\n",
    "y =False\n",
    " \n",
    "print(type(x))\n",
    "print(type(y))\n"
   ]
  },
  {
   "cell_type": "markdown",
   "id": "ce7c1d0b",
   "metadata": {},
   "source": [
    "##### ques 2. What are the three different types of Boolean operators?\n",
    "\n",
    "**Ans**:  There are three diffrent type of boolean operators : AND, OR,and NOT"
   ]
  },
  {
   "cell_type": "markdown",
   "id": "81889ec2",
   "metadata": {},
   "source": [
    "##### ques 3. Make a list of each Boolean operator&#39;s truth tables (i.e. every possible combination of Boolean\n",
    "#####  values for the operator and what it evaluate ).\n",
    "\n",
    "**Ans**:\n",
    "\n",
    "Truth Table for and operaotor <br> \n",
    "     True and True is True <br>\n",
    "     True and False is False <br>\n",
    "    False and True is False <br>\n",
    "    False and False is False <br>\n",
    "\n",
    "\n",
    "Truth Table for or operaotor <br>\n",
    "True and True is True <br>\n",
    "True and False is True <br>\n",
    "False and True is True <br>\n",
    "False and False is False <br>\n",
    "\n",
    "\n",
    "Truth Table for not operaotor <br>\n",
    "True not is False False not is True <br>"
   ]
  },
  {
   "cell_type": "markdown",
   "id": "cbfa2dc4",
   "metadata": {},
   "source": [
    "##### ques 4. What are the values of the following expressions?\n",
    "(5 > 4) and (3 == 5) <br>\n",
    "not (5 > 4) <br>\n",
    "(5 > 4) or (3 == 5) <br>\n",
    "not ((5 > 4) or (3 == 5)) <br>\n",
    "(True and True) and (True == False) <br>\n",
    "(not False) or (not True) <br>\n",
    "\n",
    "**Ans**:\n"
   ]
  },
  {
   "cell_type": "code",
   "execution_count": 10,
   "id": "4914b0d7",
   "metadata": {},
   "outputs": [
    {
     "name": "stdout",
     "output_type": "stream",
     "text": [
      "False\n",
      "False\n",
      "True\n",
      "False\n",
      "False\n",
      "True\n"
     ]
    }
   ],
   "source": [
    "print((5 > 4) and (3 == 5)) # this is false\n",
    "print(not (5 > 4))        # this is false\n",
    "print((5 > 4) or (3 == 5))   # this is true\n",
    "print(not ((5 > 4) or (3 == 5)))   # this is false\n",
    "print((True and True) and (True == False)) # this is false\n",
    "print((not False) or (not True))     # this is true"
   ]
  },
  {
   "cell_type": "markdown",
   "id": "f239137a",
   "metadata": {},
   "source": [
    "##### ques 5. What are the six comparison operators?\n",
    "**Ans**: \n",
    "\n",
    "Less than ( < ) <br>\n",
    "Less than or equal to (<=) <br>\n",
    "Greater than (>) <br>\n",
    "Greater than or equal to (>=) <br>\n",
    "Equal to ( == ) <br>\n",
    "Not equal to ( != ) <br>"
   ]
  },
  {
   "cell_type": "markdown",
   "id": "77439d6f",
   "metadata": {},
   "source": [
    "##### ques 6. How do you tell the difference between the equal to and assignment operators?Describe a\n",
    "##### condition and when you would use one.\n",
    "\n",
    "**Ans**: == is the equal to operator that compares two values and evaluates to a Boolean, while = is the assignment operator \n",
    "    where we store or assign a value in a variable . Left side is a variable and right side is a value."
   ]
  },
  {
   "cell_type": "code",
   "execution_count": 13,
   "id": "a09492b4",
   "metadata": {},
   "outputs": [
    {
     "name": "stdout",
     "output_type": "stream",
     "text": [
      "True\n"
     ]
    }
   ],
   "source": [
    "x  = 5         # Assigning operator where store 5 value in a variable a\n",
    "x==5       #comparing values of a varible value and 5\n",
    "print(x==5)"
   ]
  },
  {
   "cell_type": "markdown",
   "id": "86f920b1",
   "metadata": {},
   "source": [
    "##### ques 7. Identify the three blocks in this code:\n",
    "spam = 0 <br>\n",
    "if spam == 10: <br>\n",
    "print('eggs') <br>\n",
    "if spam > 5: <br>\n",
    "print('bacon') <br>\n",
    "else: <br>\n",
    "print('ham') <br>\n",
    "print('spam') <br>\n",
    "print('spam') <br>\n",
    "\n",
    "**Ans**: There is important thing is Indentation and that is mandatory in python."
   ]
  },
  {
   "cell_type": "code",
   "execution_count": 2,
   "id": "3afda46e",
   "metadata": {},
   "outputs": [
    {
     "name": "stdout",
     "output_type": "stream",
     "text": [
      "ham\n",
      "spam\n",
      "spam\n"
     ]
    }
   ],
   "source": [
    "spam = 0  \n",
    "if spam == 10:  \n",
    "    print('eggs')  # block 1  \n",
    "if spam > 5:      \n",
    "    print('bacon') # block 2 \n",
    "else:            \n",
    "    print('ham')   # block 3\n",
    "    print('spam')  \n",
    "    print('spam')"
   ]
  },
  {
   "cell_type": "markdown",
   "id": "1e77b2d8",
   "metadata": {},
   "source": [
    "##### ques 8. Write code that prints Hello if 1 is stored in spam, prints Howdy if 2 is stored in spam, and prints Greetings! if anything else is stored in spam.\n",
    "\n"
   ]
  },
  {
   "cell_type": "code",
   "execution_count": 6,
   "id": "a6eae9bb",
   "metadata": {},
   "outputs": [
    {
     "name": "stdout",
     "output_type": "stream",
     "text": [
      "Enter your number: 7\n",
      "Greeting\n"
     ]
    }
   ],
   "source": [
    "spam =int(input(\"Enter your number: \"))\n",
    "if spam ==1:\n",
    "    print(\"Hello\")\n",
    "elif spam == 2:\n",
    "    print(\"Howdy\")\n",
    "else:\n",
    "    print(\"Greeting\")"
   ]
  },
  {
   "cell_type": "markdown",
   "id": "1a4ea4ea",
   "metadata": {},
   "source": [
    "##### ques 9. If your programme is stuck in an endless loop, what keys you’ll press?\n",
    "\n",
    "**Ans**: we have to press **ctrl+C**, If programme is stuck in an endless loop."
   ]
  },
  {
   "cell_type": "markdown",
   "id": "febb8fff",
   "metadata": {},
   "source": [
    "##### ques. 10.  How can you tell the difference between break and continue?\n",
    "\n",
    "**Ans**: The break statement terminate the execution of loop if condition is True and it come out of the loop. Whereas, continue statement the current iteration that is running will be stopped, and it will proceed with the next iteration.\n"
   ]
  },
  {
   "cell_type": "markdown",
   "id": "f72e2dfb",
   "metadata": {},
   "source": [
    "##### ques 11.  In a for loop, what is the difference between range(10), range(0, 10), and range(0, 10, 1)?\n",
    "\n",
    "**Ans**: All are same but,The range(10) call ranges from 0 up to 10 (but excluding 10 ), range(0, 10) showing  that the loop  starting from  0 and stop range 10 but excluding 10 , and range(0, 10, 1) explicitly showing that  the loop  increase the variable  one by 1 on each iteration."
   ]
  },
  {
   "cell_type": "markdown",
   "id": "24af2d14",
   "metadata": {},
   "source": [
    "##### ques 12.  Write a short program that prints the numbers 1 to 10 using a for loop. Then write an equivalent program that prints the numbers 1 to 10 using a while loop."
   ]
  },
  {
   "cell_type": "code",
   "execution_count": 37,
   "id": "4c5b0091",
   "metadata": {},
   "outputs": [
    {
     "name": "stdout",
     "output_type": "stream",
     "text": [
      "print number 1 To 10 by for  loop \n",
      "\n",
      "1 2 3 4 5 6 7 8 9 10 \n",
      "\n",
      "print number by while loop \n",
      "  \n",
      "1 2 3 4 5 6 7 8 9 10 "
     ]
    }
   ],
   "source": [
    "print ( \"print number 1 To 10 by for  loop \\n\")\n",
    "\n",
    "for i in range (1,11):\n",
    "        print(i,end= \" \" )\n",
    "print(\"\\n\\nprint number by while loop \\n  \")\n",
    "\n",
    "i = 1\n",
    "while i <= 10:\n",
    "    print(i, end=\" \")\n",
    "    i = i + 1\n",
    "\n"
   ]
  },
  {
   "cell_type": "markdown",
   "id": "85e06c99",
   "metadata": {},
   "source": [
    "##### ques 13. If you had a function named bacon() inside a module named spam, how would you call it after importing spam?\n",
    "**Ans**: I will call this bacon() by spam.bacon()."
   ]
  },
  {
   "cell_type": "code",
   "execution_count": null,
   "id": "358d9138",
   "metadata": {},
   "outputs": [],
   "source": []
  },
  {
   "cell_type": "code",
   "execution_count": null,
   "id": "95efe34b",
   "metadata": {},
   "outputs": [],
   "source": []
  }
 ],
 "metadata": {
  "kernelspec": {
   "display_name": "Python 3 (ipykernel)",
   "language": "python",
   "name": "python3"
  },
  "language_info": {
   "codemirror_mode": {
    "name": "ipython",
    "version": 3
   },
   "file_extension": ".py",
   "mimetype": "text/x-python",
   "name": "python",
   "nbconvert_exporter": "python",
   "pygments_lexer": "ipython3",
   "version": "3.9.7"
  }
 },
 "nbformat": 4,
 "nbformat_minor": 5
}
