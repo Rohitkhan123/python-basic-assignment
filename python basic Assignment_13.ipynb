{
 "cells": [
  {
   "cell_type": "markdown",
   "id": "89f891a6",
   "metadata": {},
   "source": [
    "###  Assignment_13"
   ]
  },
  {
   "cell_type": "markdown",
   "id": "f6c8103d",
   "metadata": {},
   "source": [
    "##### ques 1.What advantages do Excel spreadsheets have over CSV spreadsheets?\n",
    "**Ans**: CSV consumes less amount of file size when the user is importing data; it is a much faster format compared to excel. CSV does not manipulate data and stores it as-is. Excel also allows the user the add-in feature."
   ]
  },
  {
   "cell_type": "markdown",
   "id": "23aeb234",
   "metadata": {},
   "source": [
    "##### ques 2. What do you pass to csv.reader() and csv.writer() to create reader and writer objects?\n",
    "**Ans**:We pass a file object, obtained from call to open()."
   ]
  },
  {
   "cell_type": "code",
   "execution_count": 1,
   "id": "5b884f19",
   "metadata": {},
   "outputs": [],
   "source": [
    "import csv"
   ]
  },
  {
   "cell_type": "markdown",
   "id": "cc8b8414",
   "metadata": {},
   "source": [
    "##### ques 3.What modes do File objects for reader and writer objects need to be opened in?\n",
    "**Ans**: for reader object we open file in read mode 'r'<br>\n",
    "and for writer object we open file in write mode 'w'."
   ]
  },
  {
   "cell_type": "markdown",
   "id": "3859107f",
   "metadata": {},
   "source": [
    "##### ques 4. What method takes a list argument and writes it to a CSV file?\n",
    " **Ans**: use writerow() method for list argument in csv file."
   ]
  },
  {
   "cell_type": "markdown",
   "id": "3c29242c",
   "metadata": {},
   "source": [
    "##### ques 5.What do the keyword arguments delimiter and line terminator do?\n",
    "**Ans**: The delimeter argument change the string used to separate cells in a row. The lineterminator argument changes the string used to separate rows."
   ]
  },
  {
   "cell_type": "markdown",
   "id": "b89e7319",
   "metadata": {},
   "source": [
    "##### ques 6. What function takes a string of JSON data and returns a Python data structure?\n",
    "**Ans**: dumps() function convert json data into python data structure."
   ]
  },
  {
   "cell_type": "markdown",
   "id": "9fc94025",
   "metadata": {},
   "source": [
    "##### ques 7.What function takes a Python data structure and returns a string of JSON data?\n",
    "**Ans**:loads() method return Python data structure of JSON string or data."
   ]
  }
 ],
 "metadata": {
  "kernelspec": {
   "display_name": "Python 3 (ipykernel)",
   "language": "python",
   "name": "python3"
  },
  "language_info": {
   "codemirror_mode": {
    "name": "ipython",
    "version": 3
   },
   "file_extension": ".py",
   "mimetype": "text/x-python",
   "name": "python",
   "nbconvert_exporter": "python",
   "pygments_lexer": "ipython3",
   "version": "3.9.7"
  }
 },
 "nbformat": 4,
 "nbformat_minor": 5
}
