{
 "cells": [
  {
   "cell_type": "markdown",
   "id": "c4d5426d",
   "metadata": {},
   "source": [
    "### assignment 25"
   ]
  },
  {
   "cell_type": "markdown",
   "id": "28b9effc",
   "metadata": {},
   "source": [
    "##### ques 1 . What is the difference between enclosing a list comprehension in square brackets and parentheses?"
   ]
  },
  {
   "cell_type": "markdown",
   "id": "68ad759c",
   "metadata": {},
   "source": [
    "**Ans**:The difference between the two kinds of expressions is that the List comprehension is enclosed in square brackets [] while the Generator expression is enclosed in plain parentheses ()"
   ]
  },
  {
   "cell_type": "code",
   "execution_count": 3,
   "id": "4af815da",
   "metadata": {},
   "outputs": [
    {
     "name": "stdout",
     "output_type": "stream",
     "text": [
      "[0, 1, 2, 3, 4, 5, 6, 7, 8, 9] <class 'list'>\n",
      "<generator object <genexpr> at 0x000001F2465F8040> <class 'generator'>\n"
     ]
    }
   ],
   "source": [
    "l = [i for i in range(10)]\n",
    "print(l, type(l))\n",
    "g = (i for i in range(10))\n",
    "print(g, type(g))"
   ]
  },
  {
   "cell_type": "markdown",
   "id": "89c62dbb",
   "metadata": {},
   "source": [
    "##### ques 2. What is the relationship between generators and iterators?\n",
    "**Ans**:Generators : It is another way of creating iterators in a simple way where it uses the keyword “yield” instead of returning it in a defined function. Generators are implemented using a function. Just as iterators, generators also follow lazy evaluation. Here, the yield function returns the data without affecting or exiting the function. It will return a sequence of data in an iterable format where we need to iterate over the sequence to use the data as they won’t store the entire sequence in the memory.<br>\n",
    "    <br>\n",
    "\n",
    "Iterators : An iterator is an object which contains a countable number of values and it is used to iterate over iterable objects like list, tuples, sets, etc. Iterators are implemented using a class and a local variable for iterating is not required here, It follows lazy evaluation where the evaluation of the expression will be on hold and stored in the memory until the item is called specifically which helps us to avoid repeated evaluation. As lazy evaluation is implemented, it requires only 1 memory location to process the value and when we are using a large dataset then, wastage of RAM space will be reduced the need to load the entire dataset at the same time will not be there.<br>"
   ]
  },
  {
   "cell_type": "markdown",
   "id": "a3c98864",
   "metadata": {},
   "source": [
    "##### ques 3.What are the signs that a function is a generator function?\n",
    "**Ans**:A generator function uses a yield statement instead of a return statement. A generator function will always return a iterable object called generator. where as a normal function can return a string/list/tuple/dict/NoneType ... etc"
   ]
  },
  {
   "cell_type": "markdown",
   "id": "02bfa1d9",
   "metadata": {},
   "source": [
    "##### ques 4. What is the purpose of a yield statement?\n",
    "**Ans**:In its simplest form, a yield statement looks much like a return statement, except that instead of stopping execution of the function and returning, yield instead provides a value to the code looping over the generator and pauses execution of the generator function."
   ]
  },
  {
   "cell_type": "markdown",
   "id": "1b2f0499",
   "metadata": {},
   "source": [
    "##### ques 5.What is the relationship between map calls and list comprehensions? Make a comparison and contrast between the two.\n",
    "**Ans**:List comprehension is more concise and easier to read as compared to map.List comprehension allows filtering. In map, we have no such facility. For example, to print all even numbers in range of 100, we can write [n for n in range(100) if n%2 == 0]. There is no alternate for it in map. List comprehension are used when a list of results is required as map only returns a map object and does not return any list. Map is faster in case of calling an already defined function (as no lambda is required)."
   ]
  }
 ],
 "metadata": {
  "kernelspec": {
   "display_name": "Python 3 (ipykernel)",
   "language": "python",
   "name": "python3"
  },
  "language_info": {
   "codemirror_mode": {
    "name": "ipython",
    "version": 3
   },
   "file_extension": ".py",
   "mimetype": "text/x-python",
   "name": "python",
   "nbconvert_exporter": "python",
   "pygments_lexer": "ipython3",
   "version": "3.9.7"
  }
 },
 "nbformat": 4,
 "nbformat_minor": 5
}
