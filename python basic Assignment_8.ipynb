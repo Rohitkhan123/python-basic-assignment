{
 "cells": [
  {
   "cell_type": "markdown",
   "id": "862a3622",
   "metadata": {},
   "source": [
    "### assignment 8"
   ]
  },
  {
   "cell_type": "markdown",
   "id": "1b6fa8be",
   "metadata": {},
   "source": [
    "##### ques 1.Is the Python Standard Library included with PyInputPlus?\n",
    "\n",
    "**Ans**: PyInputPlus is a Python module used for taking inputs with additional validation features. PyInputPlus will keep asking the user for text until they enter valid input.\n",
    "\n",
    "Install the module via pip command :\n",
    "\n",
    "**!pip install PyInputPlus**"
   ]
  },
  {
   "cell_type": "markdown",
   "id": "cdbb2a0b",
   "metadata": {},
   "source": [
    "##### aues 2.Why is PyInputPlus commonly imported with import pyinputplus as pypi?\n",
    "**Ans**:You can import the module with import pyinputplus as pyip so that you can enter a shorter name when calling the module's function"
   ]
  },
  {
   "cell_type": "markdown",
   "id": "62553754",
   "metadata": {},
   "source": [
    "##### ques 3.How do you distinguish between inputInt() and inputFloat()?\n",
    "**Ans: inputInt()** : Accepts an integer value. This also takes additional parameters ‘min’, ‘max’, ‘greaterThan’ and ‘lessThan’  for bounds. Returns an int.\n",
    "**inputFloat()** : Accepts a floating-point numeric value. Also takes additional ‘min’, ‘max’, ‘greaterThan’ and ‘lessThan’  parameters. Returns a float."
   ]
  },
  {
   "cell_type": "markdown",
   "id": "7fe55c65",
   "metadata": {},
   "source": [
    "##### ques 4. Using PyInputPlus, how do you ensure that the user enters a whole number between 0 and 99?"
   ]
  },
  {
   "cell_type": "code",
   "execution_count": 6,
   "id": "5bd68216",
   "metadata": {},
   "outputs": [
    {
     "name": "stdout",
     "output_type": "stream",
     "text": [
      "Enter an Integer... 786\n",
      "Number must be at maximum 99.\n",
      "Enter an Integer... 7\n",
      "7\n"
     ]
    }
   ],
   "source": [
    "import pyinputplus as pyip\n",
    "inp = pyip.inputInt(prompt = \"Enter an Integer... \",min = 0, max = 99)\n",
    "\n",
    "print(inp)\n"
   ]
  },
  {
   "cell_type": "markdown",
   "id": "6a3b9404",
   "metadata": {},
   "source": [
    "##### ques 5. What is transferred to the keyword arguments allowRegexes and blockRegexes?\n",
    "**Ans**:we can use allowRegexes and blockRegexes keyword arguments to take list of regular expression strings to determine\n",
    "what the pyinputplus function will reject or accept valid input."
   ]
  },
  {
   "cell_type": "markdown",
   "id": "0b378a86",
   "metadata": {},
   "source": [
    "##### ques 6.If a blank input is entered three times, what does inputStr(limit=3) do?\n",
    "**Ans**: inputStr() raises a TimeoutException exception. If the user answers incorrectly more than 3 times, it raises a RetryLimitException exception"
   ]
  },
  {
   "cell_type": "markdown",
   "id": "d2864eed",
   "metadata": {},
   "source": [
    "##### ques 7.If blank input is entered three times, what does inputStr(limit=3, default='hello') do?\n",
    "**Ans**:The function returns the default value instead of raising an exception."
   ]
  },
  {
   "cell_type": "code",
   "execution_count": null,
   "id": "c994b816",
   "metadata": {},
   "outputs": [],
   "source": [
    "inp = pypi.inputStr(limit=3, default='hello')\n",
    "inp"
   ]
  }
 ],
 "metadata": {
  "kernelspec": {
   "display_name": "Python 3 (ipykernel)",
   "language": "python",
   "name": "python3"
  },
  "language_info": {
   "codemirror_mode": {
    "name": "ipython",
    "version": 3
   },
   "file_extension": ".py",
   "mimetype": "text/x-python",
   "name": "python",
   "nbconvert_exporter": "python",
   "pygments_lexer": "ipython3",
   "version": "3.9.7"
  }
 },
 "nbformat": 4,
 "nbformat_minor": 5
}
