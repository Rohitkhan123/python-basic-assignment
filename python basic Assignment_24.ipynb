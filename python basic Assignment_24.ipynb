{
 "cells": [
  {
   "cell_type": "markdown",
   "id": "8cf489d4",
   "metadata": {},
   "source": [
    "### assignment 24"
   ]
  },
  {
   "cell_type": "markdown",
   "id": "2fa719c8",
   "metadata": {},
   "source": [
    "##### ques 1. What is the relationship between def statements and lambda expressions ?\n",
    "**Ans**:def statement is used to create a normal function. where as lamba expressions are used to create Anonymous functions. which can be assigned to a variable and can be called using the variable later in function.<br>\n",
    "    Lambda's body is a single expression and not a block of statements like def statement. The lambda expression's body is similar to what we'd put in a def body's return statement. We simply type the result as an expression instead of explicitly returning it. Because it is limited to an expression, a lambda is less general than a def statement."
   ]
  },
  {
   "cell_type": "markdown",
   "id": "dfa8b15b",
   "metadata": {},
   "source": [
    "##### ques 2. What is the benefit of lambda?\n",
    "**Ans**:The lambda keyword in Python provides a shortcut for declaring small anonymous functions. Lambda functions behave just like regular functions declared with the def keyword. They can be used whenever function objects are required."
   ]
  },
  {
   "cell_type": "markdown",
   "id": "f1f589a8",
   "metadata": {},
   "source": [
    "##### ques 3.Compare and contrast map, filter, and reduce.\n",
    "**Ans**: The differences between map, filter and reduce are:<br>\n",
    "map(): The map() function is a type of higher-order. This function takes another function as a parameter along with a sequence of iterables and returns an output after applying the function to each iterable present in the sequence.<br>\n",
    "filter(): The filter() function is used to create an output list consisting of values for which the function returns true.<br>\n",
    "reduce(): The reduce() function, as the name describes, applies a given function to the iterables and returns a single value<br>"
   ]
  },
  {
   "cell_type": "markdown",
   "id": "f6938435",
   "metadata": {},
   "source": [
    "##### ques 4. What are function annotations, and how are they used?\n",
    "**Ans**:Function annotations are completely optional both for parameters and return value. Function annotations provide a way of associating various parts of a function with arbitrary python expressions at compile time.<br>\n",
    "nnotations of simple parameters def func(x: expression, y: expression = 20):\n",
    "Whereas the annotations for excess parameters are as − def func (**args: expression, **kwargs: expression):"
   ]
  },
  {
   "cell_type": "markdown",
   "id": "b700fc8f",
   "metadata": {},
   "source": [
    "##### ques 5 What are recursive functions, and how are they used?\n",
    "**Ans**: A recursive function is a function that calls itself during its execution. The process may repeat several times, outputting the result and the end of each iteration."
   ]
  },
  {
   "cell_type": "markdown",
   "id": "a02f8a42",
   "metadata": {},
   "source": [
    "##### ques 6.What are some general design guidelines for coding functions?"
   ]
  },
  {
   "cell_type": "markdown",
   "id": "4553434f",
   "metadata": {},
   "source": [
    "**Ans**: Some of the general design guidelines for coding functions are:<br>\n",
    "\n",
    "Always use a docstring to explain the functionality of the function <br>\n",
    "avoid using or limited use of global variables<br>\n",
    "Proper Identation to increase the code readability<br>\n",
    "try to follow a naming convention for function names (pascalCase or camelCase) and stick with the same convention throughout the application.<br>\n",
    "Avoid using digits while choosing a variable name<br>\n",
    "try to use a name for the function which conveys the purpose of the function<br>\n",
    "Local variables should be named using camelCase format (ex: localVariable) whereas Global variables names should be using PascalCase (ex:GlobalVariable).<br>\n",
    "Constant should be represented in allcaps (ex:CONSTANT).<br>"
   ]
  },
  {
   "cell_type": "markdown",
   "id": "f4c9e8cc",
   "metadata": {},
   "source": [
    "##### ques 7. Name three or more ways that functions can communicate results to a caller.\n",
    "**Ans**: Some of the ways in which a function can communicate with the calling function is:<br>\n",
    "\n",
    "print<br>\n",
    "return<br>\n",
    "yield<br>"
   ]
  },
  {
   "cell_type": "code",
   "execution_count": null,
   "id": "99ab8221",
   "metadata": {},
   "outputs": [],
   "source": []
  }
 ],
 "metadata": {
  "kernelspec": {
   "display_name": "Python 3 (ipykernel)",
   "language": "python",
   "name": "python3"
  },
  "language_info": {
   "codemirror_mode": {
    "name": "ipython",
    "version": 3
   },
   "file_extension": ".py",
   "mimetype": "text/x-python",
   "name": "python",
   "nbconvert_exporter": "python",
   "pygments_lexer": "ipython3",
   "version": "3.9.7"
  }
 },
 "nbformat": 4,
 "nbformat_minor": 5
}
