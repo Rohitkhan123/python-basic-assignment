{
 "cells": [
  {
   "cell_type": "markdown",
   "id": "731d788e",
   "metadata": {},
   "source": [
    "### assignment 11"
   ]
  },
  {
   "cell_type": "markdown",
   "id": "cdba7362",
   "metadata": {},
   "source": [
    "##### ques 1.Create an assert statement that throws an AssertionError if the variable spam is a negative integer."
   ]
  },
  {
   "cell_type": "code",
   "execution_count": 6,
   "id": "b56244a6",
   "metadata": {},
   "outputs": [
    {
     "ename": "AssertionError",
     "evalue": "Variable Spam should not be a -ve number",
     "output_type": "error",
     "traceback": [
      "\u001b[1;31m---------------------------------------------------------------------------\u001b[0m",
      "\u001b[1;31mAssertionError\u001b[0m                            Traceback (most recent call last)",
      "\u001b[1;32mC:\\Users\\ADMINI~1\\AppData\\Local\\Temp\\2/ipykernel_1516/1150322636.py\u001b[0m in \u001b[0;36m<module>\u001b[1;34m\u001b[0m\n\u001b[0;32m      1\u001b[0m \u001b[0mspam\u001b[0m \u001b[1;33m=\u001b[0m \u001b[1;33m-\u001b[0m\u001b[1;36m1\u001b[0m\u001b[1;33m\u001b[0m\u001b[1;33m\u001b[0m\u001b[0m\n\u001b[1;32m----> 2\u001b[1;33m \u001b[1;32massert\u001b[0m \u001b[0mspam\u001b[0m \u001b[1;33m>=\u001b[0m\u001b[1;36m0\u001b[0m\u001b[1;33m,\u001b[0m \u001b[1;34m'Variable Spam should not be a -ve number'\u001b[0m\u001b[1;33m\u001b[0m\u001b[1;33m\u001b[0m\u001b[0m\n\u001b[0m",
      "\u001b[1;31mAssertionError\u001b[0m: Variable Spam should not be a -ve number"
     ]
    }
   ],
   "source": [
    "spam = -1\n",
    "assert spam >=0, 'Variable Spam should not be a -ve number'"
   ]
  },
  {
   "cell_type": "markdown",
   "id": "66a0db77",
   "metadata": {},
   "source": [
    "##### ques 2.Write an assert statement that triggers an AssertionError if the variables eggs and bacon contain strings that are the same as each other, even if their cases are different (that is, 'hello' and 'hello' are considered the same, and 'goodbye' and 'GOODbye' are also considered the same)."
   ]
  },
  {
   "cell_type": "code",
   "execution_count": 7,
   "id": "d59a16ac",
   "metadata": {},
   "outputs": [
    {
     "ename": "AssertionError",
     "evalue": "The eggs and bacon variables are the same!",
     "output_type": "error",
     "traceback": [
      "\u001b[1;31m---------------------------------------------------------------------------\u001b[0m",
      "\u001b[1;31mAssertionError\u001b[0m                            Traceback (most recent call last)",
      "\u001b[1;32mC:\\Users\\ADMINI~1\\AppData\\Local\\Temp\\2/ipykernel_1516/839721417.py\u001b[0m in \u001b[0;36m<module>\u001b[1;34m\u001b[0m\n\u001b[0;32m      2\u001b[0m \u001b[0mbacon\u001b[0m \u001b[1;33m=\u001b[0m \u001b[1;34m'Hello'\u001b[0m\u001b[1;33m\u001b[0m\u001b[1;33m\u001b[0m\u001b[0m\n\u001b[0;32m      3\u001b[0m \u001b[1;33m\u001b[0m\u001b[0m\n\u001b[1;32m----> 4\u001b[1;33m \u001b[1;32massert\u001b[0m \u001b[0meggs\u001b[0m\u001b[1;33m.\u001b[0m\u001b[0mlower\u001b[0m\u001b[1;33m(\u001b[0m\u001b[1;33m)\u001b[0m \u001b[1;33m!=\u001b[0m \u001b[0mbacon\u001b[0m\u001b[1;33m.\u001b[0m\u001b[0mlower\u001b[0m\u001b[1;33m(\u001b[0m\u001b[1;33m)\u001b[0m\u001b[1;33m,\u001b[0m \u001b[1;34m'The eggs and bacon variables are the same!'\u001b[0m\u001b[1;33m\u001b[0m\u001b[1;33m\u001b[0m\u001b[0m\n\u001b[0m\u001b[0;32m      5\u001b[0m \u001b[1;32massert\u001b[0m \u001b[0meggs\u001b[0m\u001b[1;33m.\u001b[0m\u001b[0mupper\u001b[0m\u001b[1;33m(\u001b[0m\u001b[1;33m)\u001b[0m \u001b[1;33m!=\u001b[0m \u001b[0mbacon\u001b[0m\u001b[1;33m.\u001b[0m\u001b[0mupper\u001b[0m\u001b[1;33m(\u001b[0m\u001b[1;33m)\u001b[0m\u001b[1;33m,\u001b[0m \u001b[1;34m'The eggs and bacon variables are the same!'\u001b[0m\u001b[1;33m\u001b[0m\u001b[1;33m\u001b[0m\u001b[0m\n",
      "\u001b[1;31mAssertionError\u001b[0m: The eggs and bacon variables are the same!"
     ]
    }
   ],
   "source": [
    "eggs = 'hello'\n",
    "bacon = 'Hello'\n",
    "\n",
    "assert eggs.lower() != bacon.lower(), 'The eggs and bacon variables are the same!' \n",
    "assert eggs.upper() != bacon.upper(), 'The eggs and bacon variables are the same!'"
   ]
  },
  {
   "cell_type": "markdown",
   "id": "cea53105",
   "metadata": {},
   "source": [
    "##### ques 3. Create an assert statement that throws an AssertionError every time.\n",
    "**Ans**: assert False, 'This assertion always triggers.'"
   ]
  },
  {
   "cell_type": "code",
   "execution_count": 13,
   "id": "9b170216",
   "metadata": {},
   "outputs": [],
   "source": [
    "def always_error():\n",
    "    assert False, \"Assertion statement everytime\""
   ]
  },
  {
   "cell_type": "code",
   "execution_count": 14,
   "id": "fb16c23d",
   "metadata": {},
   "outputs": [
    {
     "ename": "AssertionError",
     "evalue": "Assertion statement everytime",
     "output_type": "error",
     "traceback": [
      "\u001b[1;31m---------------------------------------------------------------------------\u001b[0m",
      "\u001b[1;31mAssertionError\u001b[0m                            Traceback (most recent call last)",
      "\u001b[1;32mC:\\Users\\ADMINI~1\\AppData\\Local\\Temp\\2/ipykernel_1516/2842585596.py\u001b[0m in \u001b[0;36m<module>\u001b[1;34m\u001b[0m\n\u001b[1;32m----> 1\u001b[1;33m \u001b[0malways_error\u001b[0m\u001b[1;33m(\u001b[0m\u001b[1;33m)\u001b[0m\u001b[1;33m\u001b[0m\u001b[1;33m\u001b[0m\u001b[0m\n\u001b[0m",
      "\u001b[1;32mC:\\Users\\ADMINI~1\\AppData\\Local\\Temp\\2/ipykernel_1516/3700077960.py\u001b[0m in \u001b[0;36malways_error\u001b[1;34m()\u001b[0m\n\u001b[0;32m      1\u001b[0m \u001b[1;32mdef\u001b[0m \u001b[0malways_error\u001b[0m\u001b[1;33m(\u001b[0m\u001b[1;33m)\u001b[0m\u001b[1;33m:\u001b[0m\u001b[1;33m\u001b[0m\u001b[1;33m\u001b[0m\u001b[0m\n\u001b[1;32m----> 2\u001b[1;33m     \u001b[1;32massert\u001b[0m \u001b[1;32mFalse\u001b[0m\u001b[1;33m,\u001b[0m \u001b[1;34m\"Assertion statement everytime\"\u001b[0m\u001b[1;33m\u001b[0m\u001b[1;33m\u001b[0m\u001b[0m\n\u001b[0m",
      "\u001b[1;31mAssertionError\u001b[0m: Assertion statement everytime"
     ]
    }
   ],
   "source": [
    "always_error()"
   ]
  },
  {
   "cell_type": "markdown",
   "id": "8e6d267d",
   "metadata": {},
   "source": [
    "##### ques 4.What are the two lines that must be present in your software in order to call logging.debug()?\n",
    "**Ans**:To be able to call logging.debug(), you must have these two lines at the start of your program."
   ]
  },
  {
   "cell_type": "code",
   "execution_count": 20,
   "id": "a08d53a9",
   "metadata": {},
   "outputs": [],
   "source": [
    "import logging\n",
    "logging.basicConfig(level=logging.DEBUG, format=' %(asctime)s -%(levelname)s - %(message)s')"
   ]
  },
  {
   "cell_type": "markdown",
   "id": "ae5a61ae",
   "metadata": {},
   "source": [
    "##### ques 5. What are the two lines that your program must have in order to have logging.debug() send a logging message to a file named programLog.txt?\n"
   ]
  },
  {
   "cell_type": "code",
   "execution_count": 29,
   "id": "aacc5a84",
   "metadata": {},
   "outputs": [],
   "source": [
    "import logging\n",
    "logging.basicConfig(filename='programLog.txt', level=logging.DEBUG, format=' %(asctime)s - %(levelname)s - %(message)s')"
   ]
  },
  {
   "cell_type": "markdown",
   "id": "c234601d",
   "metadata": {},
   "source": [
    "##### ques 6.What are the five levels of logging?"
   ]
  },
  {
   "cell_type": "markdown",
   "id": "7774ca49",
   "metadata": {},
   "source": [
    "**Ans** : CRITICAL(50), ERROR(40), WARNING(30), INFO(20, DEBUG(10), NOTSET(0)"
   ]
  },
  {
   "cell_type": "markdown",
   "id": "261890ff",
   "metadata": {},
   "source": [
    "##### ques 7. What line of code would you add to your software to disable all logging messages?"
   ]
  },
  {
   "cell_type": "code",
   "execution_count": 30,
   "id": "5916e5c2",
   "metadata": {},
   "outputs": [],
   "source": [
    "logging.disable = True"
   ]
  },
  {
   "cell_type": "markdown",
   "id": "2bf0c32b",
   "metadata": {},
   "source": [
    "##### ques 8. Why is using logging messages better than using print() to display the same message?\n",
    "**Ans**: print is used when you want to display any particular message or help whereas logging is used to record all events like \n",
    "error, info, debug messages, timestamps."
   ]
  },
  {
   "cell_type": "markdown",
   "id": "bb4aec2a",
   "metadata": {},
   "source": [
    "##### ques 9.What are the differences between the Step Over, Step In, and Step Out buttons in the debugger?\n",
    "**Ans**:The Step button will move the debugger into a function call. The Over button will quickly execute the function call without stepping into it. The Out button will quickly execute the rest of the code until it steps out of the function it currently is in."
   ]
  },
  {
   "cell_type": "markdown",
   "id": "ddefa92c",
   "metadata": {},
   "source": [
    "##### ques 10.After you click Continue, when will the debugger stop ?\n",
    "**Ans**:This will cause the program to continue running normally, without pausing for debugging untill it terminates or reaches a breakpoint."
   ]
  },
  {
   "cell_type": "markdown",
   "id": "5abdcf31",
   "metadata": {},
   "source": [
    "##### ques 11. What is the concept of a breakpoint?\n",
    "**Ans**:Breakpoint is a setting on a line of code that causes the debugger to pause when the program execution reaches the line"
   ]
  },
  {
   "cell_type": "code",
   "execution_count": null,
   "id": "0a551e19",
   "metadata": {},
   "outputs": [],
   "source": []
  },
  {
   "cell_type": "code",
   "execution_count": null,
   "id": "4983a6cc",
   "metadata": {},
   "outputs": [],
   "source": []
  },
  {
   "cell_type": "code",
   "execution_count": null,
   "id": "eec05756",
   "metadata": {},
   "outputs": [],
   "source": []
  },
  {
   "cell_type": "code",
   "execution_count": null,
   "id": "99662a62",
   "metadata": {},
   "outputs": [],
   "source": []
  },
  {
   "cell_type": "code",
   "execution_count": null,
   "id": "4e36ed10",
   "metadata": {},
   "outputs": [],
   "source": []
  },
  {
   "cell_type": "code",
   "execution_count": null,
   "id": "2bd6a21d",
   "metadata": {},
   "outputs": [],
   "source": []
  }
 ],
 "metadata": {
  "kernelspec": {
   "display_name": "Python 3 (ipykernel)",
   "language": "python",
   "name": "python3"
  },
  "language_info": {
   "codemirror_mode": {
    "name": "ipython",
    "version": 3
   },
   "file_extension": ".py",
   "mimetype": "text/x-python",
   "name": "python",
   "nbconvert_exporter": "python",
   "pygments_lexer": "ipython3",
   "version": "3.9.7"
  }
 },
 "nbformat": 4,
 "nbformat_minor": 5
}
