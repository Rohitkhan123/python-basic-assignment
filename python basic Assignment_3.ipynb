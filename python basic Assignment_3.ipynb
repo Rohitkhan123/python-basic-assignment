{
 "cells": [
  {
   "cell_type": "markdown",
   "id": "c9ddd22a",
   "metadata": {},
   "source": [
    "### Assignment 3"
   ]
  },
  {
   "cell_type": "markdown",
   "id": "bc65f81d",
   "metadata": {},
   "source": [
    "##### ques 1. Why are functions advantageous to have in your programs?\n",
    "\n",
    "**Ans**:  A function is a group of task performing a specific task. The DRY or “Don't Repeat Yourself” principle is a function aimed at reducing repetition of information"
   ]
  },
  {
   "cell_type": "markdown",
   "id": "e823585c",
   "metadata": {},
   "source": [
    "##### ques 2. When does the code in a function run: when it's specified or when it's called?\n",
    "**Ans**: he code in a function executes when the function is called, not when the function is defined."
   ]
  },
  {
   "cell_type": "markdown",
   "id": "383f7e5b",
   "metadata": {},
   "source": [
    "##### ques 3. What statement creates a function?\n",
    "**Ans**: A function is created with the def keyword. The statements in the block of the function must be indented. <br>\n",
    "    \n",
    "    def fun_name ():\n",
    "        print(\"hello\") "
   ]
  },
  {
   "cell_type": "markdown",
   "id": "803ab5cb",
   "metadata": {},
   "source": [
    "##### ques 4. What is the difference between a function and a function call?\n",
    "**Ans**:  A function is procedure to achieve a particular result and whenever we want to achieve the particular task we put name of the function followed by parentheses."
   ]
  },
  {
   "cell_type": "markdown",
   "id": "5fd7fcc5",
   "metadata": {},
   "source": [
    "##### ques 5. How many global scopes are there in a Python program? How many local scopes?\n",
    "**Ans**: There's only one global Python scope per program execution, And a local scope is created whenever a function is called."
   ]
  },
  {
   "cell_type": "markdown",
   "id": "185dc743",
   "metadata": {},
   "source": [
    "##### ques 6. What happens to variables in a local scope when the function call returns?\n",
    "**Ans**: When the execution of the function terminates (returns), the local variables are destroyed, Because the local variables disappear after the function returns."
   ]
  },
  {
   "cell_type": "markdown",
   "id": "c46deeef",
   "metadata": {},
   "source": [
    "##### ques 7. What is the concept of a return value? Is it possible to have a return value in an expression?\n",
    "**Ans**:  The values that a function returns when it has completed.A return value is the value that a function call evaluates,It is possible to have return value in an expression."
   ]
  },
  {
   "cell_type": "markdown",
   "id": "a34c2649",
   "metadata": {},
   "source": [
    "##### ques 8. If a function does not have a return statement, what is the return value of a call to that function?\n",
    "**Ans**:If a function doesn't specify a return statement , it returns None ."
   ]
  },
  {
   "cell_type": "markdown",
   "id": "347ddb9d",
   "metadata": {},
   "source": [
    "##### ques 9. How do you make a function variable refer to the global variable?\n",
    "**Ans**:When we define a variable outside of a function, it is global by default.If you want to refer to a global variable in a function, you can use the global keyword to declare which variables are global"
   ]
  },
  {
   "cell_type": "markdown",
   "id": "79c59f57",
   "metadata": {},
   "source": [
    "##### ques 10. What is the data type of None?\n",
    "**Ans**: None is not True, or False, None is just None\n",
    "    "
   ]
  },
  {
   "cell_type": "markdown",
   "id": "751889a8",
   "metadata": {},
   "source": [
    "##### ques 11. What does the sentence import areallyourpetsnamederic do?\n",
    "**Ans**: That import statement imports a module named areallyourpetsnamederic."
   ]
  },
  {
   "cell_type": "markdown",
   "id": "e0fe5b73",
   "metadata": {},
   "source": [
    "##### ques 12. If you had a bacon() feature in a spam module, what would you call it after importing spam?\n",
    "**Ans**: we can called it **spam. bacon()**."
   ]
  },
  {
   "cell_type": "markdown",
   "id": "4745f15d",
   "metadata": {},
   "source": [
    "##### ques 13. What can you do to save a programme from crashing if it encounters an error?\n",
    "**Ans** I will use  try and except statement."
   ]
  },
  {
   "cell_type": "markdown",
   "id": "e34208db",
   "metadata": {},
   "source": [
    "##### ques 14. What is the purpose of the try clause? What is the purpose of the except clause?\n",
    "**Ans**: Try and Except statement is used to handle these errors within our code in Python. The try block is used to check some code for errors i.e the code inside the try block will execute when there is no error in the program. \n",
    "    Whereas the code inside the except block will execute whenever the program encounters some error in the preceding try block.\n",
    " "
   ]
  }
 ],
 "metadata": {
  "kernelspec": {
   "display_name": "Python 3 (ipykernel)",
   "language": "python",
   "name": "python3"
  },
  "language_info": {
   "codemirror_mode": {
    "name": "ipython",
    "version": 3
   },
   "file_extension": ".py",
   "mimetype": "text/x-python",
   "name": "python",
   "nbconvert_exporter": "python",
   "pygments_lexer": "ipython3",
   "version": "3.9.7"
  }
 },
 "nbformat": 4,
 "nbformat_minor": 5
}
