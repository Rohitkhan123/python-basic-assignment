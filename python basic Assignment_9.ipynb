{
 "cells": [
  {
   "cell_type": "markdown",
   "id": "1bad3556",
   "metadata": {},
   "source": [
    "### assignment 9"
   ]
  },
  {
   "cell_type": "markdown",
   "id": "010837bc",
   "metadata": {},
   "source": [
    "##### ques .1 To what  does a relative path refer ?\n",
    "**Ans**:relpath() method in Python is used to get a relative filepath to the given path either from the current working directory or from the given directory."
   ]
  },
  {
   "cell_type": "markdown",
   "id": "48a8acc8",
   "metadata": {},
   "source": [
    "##### ques 2 . Where does an absolute path start with your Operating System ?\n",
    "**Ans**:In Linux based systems the absolute path starts with /. Where as in Windows based systems absolute path starts with C:  .An absolute path is defined as the specifying the location of a file or directory from the root directory(/). To write an absolute path-name: Start at the root directory ( / ) and work down."
   ]
  },
  {
   "cell_type": "markdown",
   "id": "82c121aa",
   "metadata": {},
   "source": [
    "##### ques 3. What does the functions os.getcwd() and os.chdir() do ?\n",
    "**Ans**:The os.getcwd() function returns the current working directory. The os.chdir() function changes the current working directory."
   ]
  },
  {
   "cell_type": "markdown",
   "id": "bbaacf92",
   "metadata": {},
   "source": [
    "##### ques 4. What are . and .. folders ?\n",
    "**Ans**: (.) Represents the Current Directory Whereas (..) Represents the Parent Directory of the Current Directory."
   ]
  },
  {
   "cell_type": "markdown",
   "id": "e4251bee",
   "metadata": {},
   "source": [
    "##### ques 5. In C:\\bacon\\eggs\\spam.txt, which part is the dir name, and which part is the base name?\n"
   ]
  },
  {
   "cell_type": "code",
   "execution_count": 19,
   "id": "877da5b7",
   "metadata": {},
   "outputs": [
    {
     "name": "stdout",
     "output_type": "stream",
     "text": [
      "C:\\bacon\\eggs\n",
      "spam.txt\n"
     ]
    }
   ],
   "source": [
    "import os\n",
    "path = r'C:\\bacon\\eggs\\spam.txt'\n",
    "print(os.path.dirname(path))\n",
    "print(os.path.basename(path)) #base name"
   ]
  },
  {
   "cell_type": "markdown",
   "id": "6ce21560",
   "metadata": {},
   "source": [
    "##### ques 6 .What are the three “mode” arguments that can be passed to the open() function?\n",
    "**Ans**: A file can be Accessed in python using open() function. open function takes two arguments filename and mode of operation (optional). if mode is not provided the default mode of opening is read mode<br>\n",
    "    \n",
    "    Three mode arguments are: \n",
    "    1. 'r' --> open for reading in text mode.\n",
    "    2. 'w' --> open for writing.\n",
    "    3. 'a' --> open for appending."
   ]
  },
  {
   "cell_type": "markdown",
   "id": "284fc5d8",
   "metadata": {},
   "source": [
    "##### ques 7. What happens if an existing file is opened in write mode?\n",
    "**Ans**:An existing file opened in write mode is erased and completely overwritten."
   ]
  },
  {
   "cell_type": "markdown",
   "id": "e0dc901c",
   "metadata": {},
   "source": [
    "##### ques .8 How do you tell the difference between read() and readlines()?\n",
    "**Ans**:The only difference between the Read() and ReadLine() is that Console. Read is used to read only single character from the standard output device, while Console. ReadLine is used to read a line or string from the standard output device."
   ]
  },
  {
   "cell_type": "markdown",
   "id": "5836ab17",
   "metadata": {},
   "source": [
    "##### ques 9. What data structure does a shelf value resemble?\n",
    "**Ans**: it has keys and values, along with keys() and values() methods that work similarly to the dictionary methods of the same names."
   ]
  }
 ],
 "metadata": {
  "kernelspec": {
   "display_name": "Python 3 (ipykernel)",
   "language": "python",
   "name": "python3"
  },
  "language_info": {
   "codemirror_mode": {
    "name": "ipython",
    "version": 3
   },
   "file_extension": ".py",
   "mimetype": "text/x-python",
   "name": "python",
   "nbconvert_exporter": "python",
   "pygments_lexer": "ipython3",
   "version": "3.9.7"
  }
 },
 "nbformat": 4,
 "nbformat_minor": 5
}
