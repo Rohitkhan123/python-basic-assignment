{
 "cells": [
  {
   "cell_type": "markdown",
   "id": "9cead17a",
   "metadata": {},
   "source": [
    "### assignment 14"
   ]
  },
  {
   "cell_type": "markdown",
   "id": "5b130115",
   "metadata": {},
   "source": [
    "##### ques 1.What does RGBA stand for?\n",
    "**Ans**:. RGBA is a 4-channel format containing data for Red, Green, Blue, and Alpha. There is no use to the Alpha channel other than making the color transparent/opaque (or partially transparent; translucent)"
   ]
  },
  {
   "cell_type": "markdown",
   "id": "70baae7d",
   "metadata": {},
   "source": [
    "##### ques 2.From the Pillow module, how do you get the RGBA value of any images?\n",
    "**Ans**:ImageColor.getcolor() gives rgba value of any image."
   ]
  },
  {
   "cell_type": "markdown",
   "id": "60f18015",
   "metadata": {},
   "source": [
    "##### ques 3. What is a box tuple, and how does it work?\n",
    "**Ans**: A box tuple is a tuple value of four integers: the left-edge x-coordinate, the top-edge y-coordinate,the width, and the height, respectively."
   ]
  },
  {
   "cell_type": "markdown",
   "id": "1dc3efa1",
   "metadata": {},
   "source": [
    "##### ques 4.Use your image and load in notebook then, How can you find out the width and height of an Image object?\n"
   ]
  },
  {
   "cell_type": "code",
   "execution_count": 8,
   "id": "a197a6da",
   "metadata": {},
   "outputs": [
    {
     "name": "stdout",
     "output_type": "stream",
     "text": [
      "Width, Height -> (1000, 667)\n",
      "Width, Height -> 1000,667\n",
      "Width, Height -> 1000,667\n"
     ]
    }
   ],
   "source": [
    "from PIL import Image\n",
    "pic = Image.open('pic.jpg')\n",
    "print(f'Width, Height -> {pic.size}') \n",
    "print(f'Width, Height -> {pic.width},{pic.height}') \n",
    "width,height = pic.size\n",
    "print(f'Width, Height -> {width},{height}') "
   ]
  },
  {
   "cell_type": "markdown",
   "id": "e5c55e65",
   "metadata": {},
   "source": [
    "##### ques 5.What method would you call to get Image object for a 100×100 image, excluding the lower-left quarter of it?"
   ]
  },
  {
   "cell_type": "code",
   "execution_count": 10,
   "id": "e683217f",
   "metadata": {},
   "outputs": [],
   "source": [
    "from PIL import Image\n",
    "img = Image.open('pic.jpg')\n",
    "new_img = img.crop((0,50,50,50))"
   ]
  },
  {
   "cell_type": "markdown",
   "id": "30a09477",
   "metadata": {},
   "source": [
    "##### ques 6. After making changes to an Image object, how could you save it as an image file?\n",
    "**Ans**:They have shape drawing methods like line(), point(), rectangle()\n",
    "we can call they by using ImageDraw.Draw() function."
   ]
  },
  {
   "cell_type": "markdown",
   "id": "0b7c6eea",
   "metadata": {},
   "source": [
    "##### ques 7.What module contains Pillow’s shape-drawing code?\n",
    "**Ans**:ImageDraw module"
   ]
  },
  {
   "cell_type": "markdown",
   "id": "8c6e64c5",
   "metadata": {},
   "source": [
    "##### ques 8. Image objects do not have drawing methods. What kind of object does? How do you get this kind of object?\n",
    "**Ans**: ImageDraw objects have shape-drawing methods such as point(), line(), or rectangle().They are returned by passing the Image object to the ImageDraw.Draw() function."
   ]
  }
 ],
 "metadata": {
  "kernelspec": {
   "display_name": "Python 3 (ipykernel)",
   "language": "python",
   "name": "python3"
  },
  "language_info": {
   "codemirror_mode": {
    "name": "ipython",
    "version": 3
   },
   "file_extension": ".py",
   "mimetype": "text/x-python",
   "name": "python",
   "nbconvert_exporter": "python",
   "pygments_lexer": "ipython3",
   "version": "3.9.7"
  }
 },
 "nbformat": 4,
 "nbformat_minor": 5
}
