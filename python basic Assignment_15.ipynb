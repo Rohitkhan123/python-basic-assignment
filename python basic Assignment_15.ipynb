{
 "cells": [
  {
   "cell_type": "markdown",
   "id": "dde9ecf0",
   "metadata": {},
   "source": [
    "### assignment 15"
   ]
  },
  {
   "cell_type": "markdown",
   "id": "458e2533",
   "metadata": {},
   "source": [
    "##### ques 1.How many seconds are in an hour? Use the interactive interpreter as a calculator and multiply the number of seconds in a minute (60) by the number of minutes in an hour (also 60)."
   ]
  },
  {
   "cell_type": "code",
   "execution_count": 1,
   "id": "53fa48b2",
   "metadata": {},
   "outputs": [
    {
     "name": "stdout",
     "output_type": "stream",
     "text": [
      "3600\n"
     ]
    }
   ],
   "source": [
    "print(60*60)"
   ]
  },
  {
   "cell_type": "markdown",
   "id": "e2e5d332",
   "metadata": {},
   "source": [
    "##### ques 2.Assign the result from the previous task (seconds in an hour) to a variable called seconds_per_hour."
   ]
  },
  {
   "cell_type": "code",
   "execution_count": 2,
   "id": "bb6abad9",
   "metadata": {},
   "outputs": [],
   "source": [
    "seconds_per_hour = 3600"
   ]
  },
  {
   "cell_type": "markdown",
   "id": "236b7e02",
   "metadata": {},
   "source": [
    "##### ques 3. How many seconds do you think there are in a day? Make use of the variables seconds per hour and minutes per hour."
   ]
  },
  {
   "cell_type": "code",
   "execution_count": 6,
   "id": "5fd8c9e7",
   "metadata": {},
   "outputs": [
    {
     "data": {
      "text/plain": [
       "86400"
      ]
     },
     "execution_count": 6,
     "metadata": {},
     "output_type": "execute_result"
    }
   ],
   "source": [
    "minutes_per_hour = 60\n",
    "seconds_per_hour*24"
   ]
  },
  {
   "cell_type": "markdown",
   "id": "ad72d3c1",
   "metadata": {},
   "source": [
    "##### ques 4.Calculate seconds per day again, but this time save the result in a variable called seconds_per_day"
   ]
  },
  {
   "cell_type": "code",
   "execution_count": 8,
   "id": "c8c363e5",
   "metadata": {},
   "outputs": [
    {
     "data": {
      "text/plain": [
       "86400"
      ]
     },
     "execution_count": 8,
     "metadata": {},
     "output_type": "execute_result"
    }
   ],
   "source": [
    "seconds_per_day = seconds_per_hour*24\n",
    "seconds_per_day"
   ]
  },
  {
   "cell_type": "markdown",
   "id": "7d947285",
   "metadata": {},
   "source": [
    "##### ques 5.Divide seconds_per_day by seconds_per_hour. Use floating-point (/) division"
   ]
  },
  {
   "cell_type": "code",
   "execution_count": 9,
   "id": "ef82e12d",
   "metadata": {},
   "outputs": [
    {
     "data": {
      "text/plain": [
       "24.0"
      ]
     },
     "execution_count": 9,
     "metadata": {},
     "output_type": "execute_result"
    }
   ],
   "source": [
    "seconds_per_day/seconds_per_hour"
   ]
  },
  {
   "cell_type": "markdown",
   "id": "64a13e62",
   "metadata": {},
   "source": [
    "##### ques 6.Divide seconds_per_day by seconds_per_hour, using integer (//) division. Did this number agree with the floating-point value from the previous question, aside from the final .0?"
   ]
  },
  {
   "cell_type": "code",
   "execution_count": 10,
   "id": "2e73c43c",
   "metadata": {},
   "outputs": [
    {
     "data": {
      "text/plain": [
       "24"
      ]
     },
     "execution_count": 10,
     "metadata": {},
     "output_type": "execute_result"
    }
   ],
   "source": [
    "seconds_per_day//seconds_per_hour"
   ]
  },
  {
   "cell_type": "markdown",
   "id": "b895e6f6",
   "metadata": {},
   "source": [
    "##### ques 7. Write a generator, genPrimes, that returns the sequence of prime numbers on successive calls to its next() method: 2, 3, 5, 7, 11, ...."
   ]
  },
  {
   "cell_type": "code",
   "execution_count": 12,
   "id": "67d750ad",
   "metadata": {},
   "outputs": [
    {
     "name": "stdout",
     "output_type": "stream",
     "text": [
      "2\n",
      "3\n",
      "5\n",
      "7\n",
      "11\n",
      "13\n",
      "17\n",
      "19\n",
      "23\n",
      "29\n",
      "31\n",
      "37\n",
      "41\n",
      "43\n",
      "47\n",
      "53\n",
      "59\n",
      "61\n"
     ]
    }
   ],
   "source": [
    "def genPrimes():\n",
    "    \n",
    "    primes = [ 2, 3, 5, 7, 11 ]\n",
    "    \n",
    "    def isPrimeNumber(n):\n",
    "        if n in primes:\n",
    "            return True\n",
    "        \n",
    "        for elem in primes:\n",
    "            if n % elem == 0:\n",
    "                return False\n",
    "                \n",
    "        primes.append(n)\n",
    "        return True\n",
    "    num = 1\n",
    "    while True:\n",
    "        num += 1\n",
    "        if isPrimeNumber(num):\n",
    "            next = num\n",
    "            yield next\n",
    "            num = next\n",
    "primeNumber = genPrimes()\n",
    "\n",
    "for i in range(18):\n",
    "    print(primeNumber.__next__())"
   ]
  }
 ],
 "metadata": {
  "kernelspec": {
   "display_name": "Python 3 (ipykernel)",
   "language": "python",
   "name": "python3"
  },
  "language_info": {
   "codemirror_mode": {
    "name": "ipython",
    "version": 3
   },
   "file_extension": ".py",
   "mimetype": "text/x-python",
   "name": "python",
   "nbconvert_exporter": "python",
   "pygments_lexer": "ipython3",
   "version": "3.9.7"
  }
 },
 "nbformat": 4,
 "nbformat_minor": 5
}
