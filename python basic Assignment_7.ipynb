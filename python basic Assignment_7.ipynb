{
 "cells": [
  {
   "cell_type": "markdown",
   "id": "2bab897c",
   "metadata": {},
   "source": [
    "### assignment 7\n"
   ]
  },
  {
   "cell_type": "markdown",
   "id": "2e7fa0ac",
   "metadata": {},
   "source": [
    "##### ques 1. What is the name of the feature responsible for generating Regex objects?\n",
    "**Ans**: re.compile() is the feature responsible for generation of Regex objects."
   ]
  },
  {
   "cell_type": "code",
   "execution_count": 5,
   "id": "1b908eb6",
   "metadata": {},
   "outputs": [
    {
     "name": "stdout",
     "output_type": "stream",
     "text": [
      "re.compile('some_random_pattern') <class 're.Pattern'>\n"
     ]
    }
   ],
   "source": [
    "import re\n",
    "x = re.compile(\"some_random_pattern\")\n",
    "print(x, type(x))"
   ]
  },
  {
   "cell_type": "markdown",
   "id": "98239729",
   "metadata": {},
   "source": [
    "##### ques.2. Why do raw strings often appear in Regex objects?\n",
    "**Ans**: Raw strings are used so that backslashes do not have to be escaped."
   ]
  },
  {
   "cell_type": "markdown",
   "id": "70ed6083",
   "metadata": {},
   "source": [
    "##### ques 3. What is the return value of the search() method?\n",
    "**Ans**:The re.search() function takes two parameters and returns a match object if there is a match. If there is more than one match, only the first occurrence of the match will be returned. If no matches are found, the value None is returned."
   ]
  },
  {
   "cell_type": "code",
   "execution_count": 14,
   "id": "20b523b1",
   "metadata": {},
   "outputs": [
    {
     "name": "stdout",
     "output_type": "stream",
     "text": [
      "Output: <re.Match object; span=(0, 1), match='I'>\n",
      "Output: None\n"
     ]
    }
   ],
   "source": [
    "import re\n",
    "match = re.search('i','Ineuron Full Stack Data Science Program', flags=re.IGNORECASE)\n",
    "print('Output:',match)\n",
    "match = re.search('y','Ineuron Full Stack Data Science Program', flags=re.IGNORECASE)\n",
    "print('Output:',match)"
   ]
  },
  {
   "cell_type": "markdown",
   "id": "bd9f7e55",
   "metadata": {},
   "source": [
    "##### ques 4. From a Match item, how do you get the actual strings that match the pattern?\n",
    "**Ans**:  The group() method returns strings of the matched text.\n"
   ]
  },
  {
   "cell_type": "code",
   "execution_count": 18,
   "id": "4c2002f9",
   "metadata": {},
   "outputs": [
    {
     "name": "stdout",
     "output_type": "stream",
     "text": [
      "Output: Full\n"
     ]
    }
   ],
   "source": [
    "import re\n",
    "match = re.search('full','Ineuron Full Stack Data Science Program', flags=re.IGNORECASE)\n",
    "print('Output:',match.group())"
   ]
  },
  {
   "cell_type": "markdown",
   "id": "4db4d04c",
   "metadata": {},
   "source": [
    "##### ques 5. In the regex which created from the r'(\\d\\d\\d)-(\\d\\d\\d-\\d\\d\\d\\d)', what does group zero cover? Group 2? Group 1?\n",
    "**Ans**: group 0 covers whole part,\n",
    "group 1 covers first part,\n",
    "group 2 covers second part"
   ]
  },
  {
   "cell_type": "code",
   "execution_count": 23,
   "id": "1c84f366",
   "metadata": {},
   "outputs": [
    {
     "name": "stdout",
     "output_type": "stream",
     "text": [
      "('123', '456-7890')\n",
      "123-456-7890\n",
      "123\n",
      "456-7890\n"
     ]
    }
   ],
   "source": [
    "import re\n",
    "phoneNumRegex = re.compile(r'(\\d\\d\\d)-(\\d\\d\\d-\\d\\d\\d\\d)')\n",
    "mo = phoneNumRegex.search('My number is 123-456-7890.')\n",
    "print(mo.groups()) # Prints all groups in a tuple format\n",
    "print(mo.group()) # Always returns the fully matched string \n",
    "print(mo.group(1)) # Returns the first group\n",
    "print(mo.group(2)) # Returns the second group"
   ]
  },
  {
   "cell_type": "markdown",
   "id": "4df2e9af",
   "metadata": {},
   "source": [
    "##### ques 6. In standard expression syntax, parentheses and intervals have distinct meanings. How can you tell a regex that you want it to fit real parentheses and periods?\n",
    "**Ans**: The *\\*  *\\*( and *\\*) escape characters in the raw string passed to re.compile() will match actual parenthesis characters."
   ]
  },
  {
   "cell_type": "markdown",
   "id": "ff3e6b1d",
   "metadata": {},
   "source": [
    "##### ques. 7. The findall() method returns a string list or a list of string tuples. What causes it to return one ofthe two options?\n",
    "**Ans**: If the regex has no groups, a list of strings is returned. If the regex has groups, a list of tuples of strings is returned."
   ]
  },
  {
   "cell_type": "markdown",
   "id": "38136efc",
   "metadata": {},
   "source": [
    "##### ques 8.In standard expressions, what does the | character mean?\n",
    "**Ans**:In Standard Expressions *|* means *OR* operator."
   ]
  },
  {
   "cell_type": "markdown",
   "id": "013423ea",
   "metadata": {},
   "source": [
    "##### ques 9. In regular expressions, what does the ? character stand for?\n",
    "**Ans**:It stands for match zero or one of the preceding group."
   ]
  },
  {
   "cell_type": "markdown",
   "id": "c7555f4b",
   "metadata": {},
   "source": [
    "##### ques 10.In regular expressions, what is the difference between the + and * characters?\n",
    "**Ans**:+ means one or more<br>\n",
    "        *means zero or more"
   ]
  },
  {
   "cell_type": "markdown",
   "id": "ed65414d",
   "metadata": {},
   "source": [
    "##### ques 11. What is the difference between {4} and {4,5} in regular expression?\n",
    "**Ans**: {4} Matches the expression to its left 4 times, and not less.<br>\n",
    "        {4,5} Matches the expression to its left 4 to 5 times, and not less.\n"
   ]
  },
  {
   "cell_type": "markdown",
   "id": "11ff5a5a",
   "metadata": {},
   "source": [
    "##### ques 12. What do you mean by the \\d, \\w, and \\s shorthand character classes signify in regular expressions?\n",
    "**Ans**:  \\d, \\w and \\s are special sequences in regular expresssions in python:<br>\n",
    "\n",
    "\\w – Matches a word character equivalent to [a-zA-Z0-9_]<br>\n",
    "\\d – Matches digit character equivalent to [0-9]<br>\n",
    "\\s – Matches whitespace character (space, tab, newline, etc.)<br>"
   ]
  },
  {
   "cell_type": "markdown",
   "id": "5e7ce3f6",
   "metadata": {},
   "source": [
    "##### ques 13. What do means by \\D, \\W, and \\S shorthand character classes signify in regular expressions?\n",
    "**Ans** : \\D, \\W and \\S are special sequences in regular expresssions in python: <br>\n",
    "\n",
    "\\W – Matches any non-alphanumeric character equivalent to [^a-zA-Z0-9_]<br>\n",
    "\\D – Matches any non-digit character, this is equivalent to the set class [^0-9]<br>\n",
    "\\S – Matches any non-whitespace character<br>"
   ]
  },
  {
   "cell_type": "markdown",
   "id": "ac184f5d",
   "metadata": {},
   "source": [
    "##### ques 14.What is the difference between .*? and .*?\n",
    "**Ans**: .* is a Greedy mode, which returns the longest string that meets the condition. Whereas .*? is a non greedy mode which returns the shortest string that meets the condition."
   ]
  },
  {
   "cell_type": "markdown",
   "id": "e9cfec6c",
   "metadata": {},
   "source": [
    "##### ques 15. What is the syntax for matching both numbers and lowercase letters with a character class?\n",
    "**Ans** :  [0-9a-z] or [a-z0-9]"
   ]
  },
  {
   "cell_type": "code",
   "execution_count": 37,
   "id": "dc9d4bdc",
   "metadata": {},
   "outputs": [],
   "source": [
    "import re\n",
    "def match(text):\n",
    "    patterns = '^[a-z0-9]*$'\n",
    "    if re.search(patterns,text):\n",
    "        return \"matched\"\n",
    "    else:\n",
    "        return\"not matched\""
   ]
  },
  {
   "cell_type": "code",
   "execution_count": 38,
   "id": "d6afb6d4",
   "metadata": {},
   "outputs": [
    {
     "name": "stdout",
     "output_type": "stream",
     "text": [
      "matched\n"
     ]
    }
   ],
   "source": [
    "print(match(\"rk1234\"))"
   ]
  },
  {
   "cell_type": "markdown",
   "id": "bfce1c14",
   "metadata": {},
   "source": [
    "##### ques 16.What is the procedure for making a normal expression in regax case insensitive?\n",
    "**Ans**: We can pass re.IGNORECASE as a flag to make a noraml expression case insensitive."
   ]
  },
  {
   "cell_type": "markdown",
   "id": "a9fc8161",
   "metadata": {},
   "source": [
    "##### ques 17. What does the . character normally match? What does it match if re.DOTALL is passed as 2nd argument in re.compile()?\n",
    "**Ans**:The . character normally matches any character except the newline character. If re.DOTALL is passed as the second argument to re.compile(), then the dot will also match newline characters."
   ]
  },
  {
   "cell_type": "markdown",
   "id": "4a000674",
   "metadata": {},
   "source": [
    "##### ques 18. If numReg = re.compile(r'\\d+'), what will numRegex.sub('X', '11 drummers, 10 pipers, five rings, 4 hen') return?\n"
   ]
  },
  {
   "cell_type": "code",
   "execution_count": 39,
   "id": "1c5afdec",
   "metadata": {},
   "outputs": [
    {
     "data": {
      "text/plain": [
       "'X drummers, X pipers, five rings, X hen'"
      ]
     },
     "execution_count": 39,
     "metadata": {},
     "output_type": "execute_result"
    }
   ],
   "source": [
    "import re\n",
    "numRegex = re.compile(r'\\d+')\n",
    "numRegex.sub('X', '11 drummers, 10 pipers, five rings, 4 hen')"
   ]
  },
  {
   "cell_type": "markdown",
   "id": "f631e7eb",
   "metadata": {},
   "source": [
    "##### ques 19. What does passing re.VERBOSE as the 2nd argument to re.compile() allow to do?\n",
    "**Ans**: re.VERBOSE will allow to add whitespace and comments to string passed to re.compile()"
   ]
  },
  {
   "cell_type": "markdown",
   "id": "998620df",
   "metadata": {},
   "source": [
    "##### ques 20.How would you write a regex that match a number with comma for every three digits? It must match the given following:\n",
    "\n",
    "'42'<br>\n",
    "'1,234'<br>\n",
    "'6,368,745'<br>\n",
    "but not the following:<br>\n",
    "'12,34,567' (which has only two digits between the commas)<br>\n",
    "'1234' (which lacks commas)<br>"
   ]
  },
  {
   "cell_type": "code",
   "execution_count": 42,
   "id": "588fa55e",
   "metadata": {},
   "outputs": [
    {
     "data": {
      "text/plain": [
       "re.compile(r'^\\d{1,3}(,\\d{3})*$', re.UNICODE)"
      ]
     },
     "execution_count": 42,
     "metadata": {},
     "output_type": "execute_result"
    }
   ],
   "source": [
    "re.compile(r'^\\d{1,3}(,\\d{3})*$')"
   ]
  },
  {
   "cell_type": "code",
   "execution_count": 43,
   "id": "55a2a8f4",
   "metadata": {},
   "outputs": [
    {
     "name": "stdout",
     "output_type": "stream",
     "text": [
      "Output: 42 -> <re.Match object; span=(0, 2), match='42'>\n",
      "Output: 1,234 -> <re.Match object; span=(0, 5), match='1,234'>\n",
      "Output: 6,368,745 -> <re.Match object; span=(0, 9), match='6,368,745'>\n",
      "Output: 12,34,567 -> None\n",
      "Output: 1234 -> None\n"
     ]
    }
   ],
   "source": [
    "import re\n",
    "pattern = r'^\\d{1,3}(,\\d{3})*$'\n",
    "pagex = re.compile(pattern)\n",
    "for ele in ['42','1,234', '6,368,745','12,34,567','1234']:\n",
    "    print('Output:',ele, '->', pagex.search(ele))"
   ]
  },
  {
   "cell_type": "markdown",
   "id": "7e38027d",
   "metadata": {},
   "source": [
    "##### ques 21. How would you write a regex that matches the full name of someone whose last name is Watanabe? You can assume that the first name that comes before it will always be one word that begins with a capital letter. The regex must match the following:\n",
    "'Haruto Watanabe'<br>\n",
    "'Alice Watanabe'<br>\n",
    "'RoboCop Watanabe'<br>\n",
    "\n",
    " but not the following:<br>\n",
    "\n",
    "'haruto Watanabe' (where the first name is not capitalized)<br>\n",
    "'Mr. Watanabe' (where the preceding word has a nonletter character)<br>\n",
    "'Watanabe' (which has no first name)<br>\n",
    "'Haruto watanabe' (where Watanabe is not( capitalized)<br>\n",
    "\n",
    "**Ans**: pattern = r'[A-Z]{1}[a-z]*\\sWatanabe'"
   ]
  },
  {
   "cell_type": "code",
   "execution_count": 44,
   "id": "09a1ee49",
   "metadata": {},
   "outputs": [
    {
     "name": "stdout",
     "output_type": "stream",
     "text": [
      "Output:  Haruto Watanabe -> <re.Match object; span=(0, 15), match='Haruto Watanabe'>\n",
      "Output:  Alice Watanabe -> <re.Match object; span=(0, 14), match='Alice Watanabe'>\n",
      "Output:  RoboCop Watanabe -> <re.Match object; span=(4, 16), match='Cop Watanabe'>\n",
      "Output:  haruto Watanabe -> None\n",
      "Output:  Mr. Watanabe -> None\n",
      "Output:  Watanabe -> None\n",
      "Output:  Haruto watanabe -> None\n"
     ]
    }
   ],
   "source": [
    "import re\n",
    "pattern = r'[A-Z]{1}[a-z]*\\sWatanabe'\n",
    "namex = re.compile(pattern)\n",
    "for name in ['Haruto Watanabe','Alice Watanabe','RoboCop Watanabe','haruto Watanabe','Mr. Watanabe','Watanabe','Haruto watanabe']:\n",
    "    print('Output: ',name,'->',namex.search(name))"
   ]
  },
  {
   "cell_type": "markdown",
   "id": "3e96b1f3",
   "metadata": {},
   "source": [
    "##### ques 22. How would you write a regex that matches a sentence where the first word is either Alice, Bob,or Carol; the second word is either eats, pets, or throws; the third word is apples, cats, or baseballs; and the sentence ends with a period? This regex should be case-insensitive. It must match the following:\n",
    "'Alice eats apples.'<br>\n",
    "'Bob pets cats.'<br>\n",
    "'Carol throws baseballs.'<br>\n",
    "'Alice throws Apples.'<br>\n",
    "'BOB EATS CATS.'<br>\n",
    "\n",
    "but not the following:<br>\n",
    "\n",
    "'RoboCop eats apples.'<br>\n",
    "'ALICE THROWS FOOTBALLS.'<br>\n",
    "'Carol eats 7 cats.'<br>\n",
    "\n",
    "**Ans**: pattern = r'(Alice|Bob|Carol)\\s(eats|pets|throws)\\s(apples|cats|baseballs)\\.'<br>"
   ]
  },
  {
   "cell_type": "code",
   "execution_count": 45,
   "id": "3242acdb",
   "metadata": {},
   "outputs": [
    {
     "name": "stdout",
     "output_type": "stream",
     "text": [
      "Output:  Alice eats apples. -> <re.Match object; span=(0, 18), match='Alice eats apples.'>\n",
      "Output:  Bob pets cats. -> <re.Match object; span=(0, 14), match='Bob pets cats.'>\n",
      "Output:  Carol throws baseballs. -> <re.Match object; span=(0, 23), match='Carol throws baseballs.'>\n",
      "Output:  Alice throws Apples. -> <re.Match object; span=(0, 20), match='Alice throws Apples.'>\n",
      "Output:  BOB EATS CATS. -> <re.Match object; span=(0, 14), match='BOB EATS CATS.'>\n",
      "Output:  RoboCop eats apples. -> None\n",
      "Output:  ALICE THROWS FOOTBALLS. -> None\n",
      "Output:  Carol eats 7 cats. -> None\n"
     ]
    }
   ],
   "source": [
    "import re\n",
    "pattern = r'(Alice|Bob|Carol)\\s(eats|pets|throws)\\s(apples|cats|baseballs)\\.'\n",
    "casex = re.compile(pattern,re.IGNORECASE)\n",
    "for ele in ['Alice eats apples.','Bob pets cats.','Carol throws baseballs.','Alice throws Apples.','BOB EATS CATS.','RoboCop eats apples.'\n",
    ",'ALICE THROWS FOOTBALLS.','Carol eats 7 cats.']:\n",
    "    print('Output: ',ele,'->',casex.search(ele))"
   ]
  }
 ],
 "metadata": {
  "kernelspec": {
   "display_name": "Python 3 (ipykernel)",
   "language": "python",
   "name": "python3"
  },
  "language_info": {
   "codemirror_mode": {
    "name": "ipython",
    "version": 3
   },
   "file_extension": ".py",
   "mimetype": "text/x-python",
   "name": "python",
   "nbconvert_exporter": "python",
   "pygments_lexer": "ipython3",
   "version": "3.9.7"
  }
 },
 "nbformat": 4,
 "nbformat_minor": 5
}
