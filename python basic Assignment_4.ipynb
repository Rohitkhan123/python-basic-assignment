{
 "cells": [
  {
   "cell_type": "markdown",
   "id": "73e3fe49",
   "metadata": {},
   "source": [
    "### Assignment - 4"
   ]
  },
  {
   "cell_type": "markdown",
   "id": "6e4d2af1",
   "metadata": {},
   "source": [
    "##### ques 1. What exactly is []?\n",
    "**Ans**: It []  is representing an empty list. It has no item."
   ]
  },
  {
   "cell_type": "code",
   "execution_count": null,
   "id": "6d980917",
   "metadata": {},
   "outputs": [],
   "source": [
    "##### ques 2. In a list of values stored in a variable called spam, how would you assign the value 'hello' as the\n",
    "##### third value? (Assume [2, 4, 6, 8, 10] are in spam.)\n",
    "**Ans**:spam[2]='hello'"
   ]
  },
  {
   "cell_type": "code",
   "execution_count": 4,
   "id": "be396d9e",
   "metadata": {},
   "outputs": [
    {
     "data": {
      "text/plain": [
       "[2, 3, 'hello', 6, 8, 10]"
      ]
     },
     "execution_count": 4,
     "metadata": {},
     "output_type": "execute_result"
    }
   ],
   "source": [
    "spam = [2,3,4,6,8,10]\n",
    "spam[2]='hello'\n",
    "spam"
   ]
  },
  {
   "cell_type": "markdown",
   "id": "c3125235",
   "metadata": {},
   "source": [
    "##### ques .Let's pretend the spam includes the list ['a', 'b', 'c', 'd'] for the next three queries.\n",
    "##### 3.What is the value of spam[int(int('3' * 2) / 11)]?\n",
    "##### 4.What is the value of spam[-1]?\n",
    "##### 5.What is the value of spam[:2]?\n",
    "**Ans**:"
   ]
  },
  {
   "cell_type": "code",
   "execution_count": 11,
   "id": "e8b5f874",
   "metadata": {},
   "outputs": [
    {
     "name": "stdout",
     "output_type": "stream",
     "text": [
      "spam[int(int('3'*2)//11)] -> d\n"
     ]
    }
   ],
   "source": [
    "spam=['a','b','c','d']\n",
    "print(\"spam[int(int('3'*2)//11)] ->\",spam[int(int('3'*2)//11)])"
   ]
  },
  {
   "cell_type": "code",
   "execution_count": 12,
   "id": "4bbd3652",
   "metadata": {},
   "outputs": [
    {
     "data": {
      "text/plain": [
       "'d'"
      ]
     },
     "execution_count": 12,
     "metadata": {},
     "output_type": "execute_result"
    }
   ],
   "source": [
    "spam[-1]"
   ]
  },
  {
   "cell_type": "code",
   "execution_count": 13,
   "id": "211fbb55",
   "metadata": {},
   "outputs": [
    {
     "name": "stdout",
     "output_type": "stream",
     "text": [
      "['a', 'b', 'c', 'd']\n",
      "['a', 'b']\n"
     ]
    }
   ],
   "source": [
    "print(spam)\n",
    "print(spam[:2])"
   ]
  },
  {
   "cell_type": "markdown",
   "id": "51522201",
   "metadata": {},
   "source": [
    "##### Let's pretend bacon has the list [3.14,'cat',11,'cat',True] for the next three question.\n",
    "##### 6.What is the value of bacon.index('cat')?"
   ]
  },
  {
   "cell_type": "code",
   "execution_count": 14,
   "id": "689619fa",
   "metadata": {},
   "outputs": [
    {
     "name": "stdout",
     "output_type": "stream",
     "text": [
      "bacon.index('cat') -> 1\n"
     ]
    }
   ],
   "source": [
    "bacon=[3.14,'cat',11,'cat',True]\n",
    "print(\"bacon.index('cat') ->\",bacon.index('cat'))"
   ]
  },
  {
   "cell_type": "markdown",
   "id": "0bb1c099",
   "metadata": {},
   "source": [
    "##### 7.How does bacon.append(99) change the look of the list value in bacon?"
   ]
  },
  {
   "cell_type": "code",
   "execution_count": 17,
   "id": "76896cd1",
   "metadata": {},
   "outputs": [
    {
     "name": "stdout",
     "output_type": "stream",
     "text": [
      "[3.14, 'cat', 11, 'cat', True, 99]\n"
     ]
    }
   ],
   "source": [
    "bacon=[3.14,'cat',11,'cat',True]\n",
    "bacon.append(99) \n",
    "print(bacon)"
   ]
  },
  {
   "cell_type": "markdown",
   "id": "daccf155",
   "metadata": {},
   "source": [
    "##### 8.How does bacon.remove('cat') change the look of the list in bacon?"
   ]
  },
  {
   "cell_type": "code",
   "execution_count": 19,
   "id": "86627a6c",
   "metadata": {},
   "outputs": [
    {
     "data": {
      "text/plain": [
       "[3.14, 11, 'cat', True]"
      ]
     },
     "execution_count": 19,
     "metadata": {},
     "output_type": "execute_result"
    }
   ],
   "source": [
    "bacon=[3.14,'cat',11,'cat',True]\n",
    "bacon.remove('cat')\n",
    "bacon"
   ]
  },
  {
   "cell_type": "markdown",
   "id": "daafbe7c",
   "metadata": {},
   "source": [
    "##### ques 9. What are the list concatenation and list replication operators?"
   ]
  },
  {
   "cell_type": "code",
   "execution_count": 20,
   "id": "ddf9301f",
   "metadata": {},
   "outputs": [
    {
     "data": {
      "text/plain": [
       "['ineuron ', 'sudh', 14.44, 22, 'ML', 7, 8, 6]"
      ]
     },
     "execution_count": 20,
     "metadata": {},
     "output_type": "execute_result"
    }
   ],
   "source": [
    "#Concatenation:\n",
    "l1 = ['ineuron ','sudh',14.44,22]\n",
    "l2 = ['ML',7,8,6]\n",
    "l1+l2"
   ]
  },
  {
   "cell_type": "code",
   "execution_count": 24,
   "id": "650c39f9",
   "metadata": {},
   "outputs": [
    {
     "data": {
      "text/plain": [
       "['ineuron ', 'sudh', 14.44, 22, 'ineuron ', 'sudh', 14.44, 22]"
      ]
     },
     "execution_count": 24,
     "metadata": {},
     "output_type": "execute_result"
    }
   ],
   "source": [
    "#Replication:\n",
    "l1 = ['ineuron ','sudh',14.44,22]\n",
    "l2 = l1*2\n",
    "l2"
   ]
  },
  {
   "cell_type": "markdown",
   "id": "3aadba13",
   "metadata": {},
   "source": [
    "##### ques.10. What is difference between the list methods append() and insert()?\n",
    "**Ans**:While append() will add values only to the end of a list, insert() can add them anywhere in the list"
   ]
  },
  {
   "cell_type": "markdown",
   "id": "17d6ab74",
   "metadata": {},
   "source": [
    "##### ques 11. What are the two methods for removing items from a list?\n",
    "**Ans**: The pop() statement and the remove() method are two ways to remove values from a list"
   ]
  },
  {
   "cell_type": "markdown",
   "id": "3cc96df0",
   "metadata": {},
   "source": [
    "##### ques 12. Describe how list values and string values are identical.\n",
    "**Ans**:both list and string are ordered collection of elements except in list it can contain different data types."
   ]
  },
  {
   "cell_type": "markdown",
   "id": "15296a61",
   "metadata": {},
   "source": [
    "##### ques 13. What's the difference between tuples and lists?\n",
    "**Ans**: List are mutable but tuples are immutable i.e we can add,delete,reassign elements in list which we cannot do in tuples. The tuple is faster than the list because of static in nature.\n",
    "    list denoted by [] and tuples denoted by ()."
   ]
  },
  {
   "cell_type": "markdown",
   "id": "93e69678",
   "metadata": {},
   "source": [
    "##### ques 14. How do you type a tuple value that only contains the integer 42?\n"
   ]
  },
  {
   "cell_type": "code",
   "execution_count": 27,
   "id": "dbdf2b1c",
   "metadata": {},
   "outputs": [
    {
     "name": "stdout",
     "output_type": "stream",
     "text": [
      "42 <class 'tuple'>\n"
     ]
    }
   ],
   "source": [
    "a=(42,)\n",
    "print('42',type(a))\n",
    "\n"
   ]
  },
  {
   "cell_type": "markdown",
   "id": "35fbdb2b",
   "metadata": {},
   "source": [
    "##### ques 15. How do you get a list value's tuple form? How do you get a tuple value's list form?\n",
    "**Ans**: The tuple() and list() functions, respectively are used to convert a list to tuple and vice versa.\n",
    "    "
   ]
  },
  {
   "cell_type": "code",
   "execution_count": 31,
   "id": "186acac7",
   "metadata": {},
   "outputs": [
    {
     "data": {
      "text/plain": [
       "(1, 2, 3)"
      ]
     },
     "execution_count": 31,
     "metadata": {},
     "output_type": "execute_result"
    }
   ],
   "source": [
    "tuple([1,2,3])"
   ]
  },
  {
   "cell_type": "code",
   "execution_count": 32,
   "id": "ef43be8d",
   "metadata": {},
   "outputs": [
    {
     "data": {
      "text/plain": [
       "[1, 2, 3]"
      ]
     },
     "execution_count": 32,
     "metadata": {},
     "output_type": "execute_result"
    }
   ],
   "source": [
    "list((1,2,3))"
   ]
  },
  {
   "cell_type": "markdown",
   "id": "5d78718c",
   "metadata": {},
   "source": [
    "##### ques 16.Variables that \"contain\" list values are not necessarily lists themselves. Instead, what do they contain?\n",
    "**Ans**:They contain references to list values."
   ]
  },
  {
   "cell_type": "markdown",
   "id": "6c83b38c",
   "metadata": {},
   "source": [
    "##### ques 17.How do you distinguish between copy.copy() and copy.deepcopy()?\n",
    "**Ans**:The copy.copy() function will do a shallow copy of a list, while the copy.deepcopy() function will do a deep copy of a list. That is, only copy.deepcopy() will duplicate any lists inside the list."
   ]
  }
 ],
 "metadata": {
  "kernelspec": {
   "display_name": "Python 3 (ipykernel)",
   "language": "python",
   "name": "python3"
  },
  "language_info": {
   "codemirror_mode": {
    "name": "ipython",
    "version": 3
   },
   "file_extension": ".py",
   "mimetype": "text/x-python",
   "name": "python",
   "nbconvert_exporter": "python",
   "pygments_lexer": "ipython3",
   "version": "3.9.7"
  }
 },
 "nbformat": 4,
 "nbformat_minor": 5
}
