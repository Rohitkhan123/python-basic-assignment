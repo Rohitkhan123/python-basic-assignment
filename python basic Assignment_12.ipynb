{
 "cells": [
  {
   "cell_type": "markdown",
   "id": "287fcfcb",
   "metadata": {},
   "source": [
    "### assignment 12"
   ]
  },
  {
   "cell_type": "markdown",
   "id": "e92e7d4c",
   "metadata": {},
   "source": [
    "##### ques 1.In what modes should the PdfFileReader() and PdfFileWriter() File objects will be opened?\n",
    "**Ans**:PdfFileReader() needs to be opened in read-binary mode by passing 'rb' as the second argument to open()<br>\n",
    "       PdfFileWriter() needs to be opened in write-binary mode with 'wb'."
   ]
  },
  {
   "cell_type": "markdown",
   "id": "9590439e",
   "metadata": {},
   "source": [
    "##### ques 2.From a PdfFileReader object, how do you get a Page object for page 5?\n",
    "**Ans**:Calling getPage(4) will return a page object for page 5, since page 0 is the first page."
   ]
  },
  {
   "cell_type": "markdown",
   "id": "8bfb344c",
   "metadata": {},
   "source": [
    "##### ques 3.What PdfFileReader variable stores the number of pages in the PDF document?\n",
    "**Ans**:The total number of pages in the document is stored in the numPages attribute of a PdfFileReader object ."
   ]
  },
  {
   "cell_type": "markdown",
   "id": "d0a5aa7c",
   "metadata": {},
   "source": [
    "##### ques 4.If a PdfFileReader object’s PDF is encrypted with the password swordfish, what must you do before you can obtain Page objects from it?\n",
    "**Ans**: \n",
    "step 1 - load pdf [ PyPDF2.PdfFileReader(open('encrypted.pdf', 'rb')) ]<br>\n",
    "step 2 - check weather it is encrypted [ pdf.isEncrypted ]<br>\n",
    "step 3 - if encrypted use [ pdf.decrypt('swordfish') ]<br>"
   ]
  },
  {
   "cell_type": "markdown",
   "id": "13e34541",
   "metadata": {},
   "source": [
    "##### ques 5.What methods do you use to rotate a page?\n",
    "**Ans*:For anticlockwise: rotateCounterClockwise() <br>\n",
    "for clockwise    : rotateClockwise()"
   ]
  },
  {
   "cell_type": "markdown",
   "id": "d64e7d34",
   "metadata": {},
   "source": [
    "##### ques 6.What is the difference between a Run object and a Paragraph object?\n",
    "**Ans**:lowest level: run objects.\n",
    "    middle level: paragraph objects.\n",
    "    highest level: document object."
   ]
  },
  {
   "cell_type": "markdown",
   "id": "5e0b717e",
   "metadata": {},
   "source": [
    "##### ques 7.How do you obtain a list of Paragraph objects for a Document object that’s stored in a variable named doc?"
   ]
  },
  {
   "cell_type": "code",
   "execution_count": null,
   "id": "a7818484",
   "metadata": {},
   "outputs": [],
   "source": [
    "len(doc.paragraphs)"
   ]
  },
  {
   "cell_type": "markdown",
   "id": "796a8187",
   "metadata": {},
   "source": [
    "##### ques 8.What type of object has bold, underline, italic, strike, and outline variables?\n",
    "**Ans**:Run object"
   ]
  },
  {
   "cell_type": "markdown",
   "id": "13450c4a",
   "metadata": {},
   "source": [
    "##### ques 9.What is the difference between False, True, and None for the bold variable?\n",
    "**Ans**:True = on,\n",
    "False = off,\n",
    "none = not available."
   ]
  },
  {
   "cell_type": "markdown",
   "id": "0fd94927",
   "metadata": {},
   "source": [
    "##### ques 10.How do you create a Document object for a new Word document?"
   ]
  },
  {
   "cell_type": "code",
   "execution_count": 9,
   "id": "a327f9b8",
   "metadata": {},
   "outputs": [],
   "source": [
    "doc = docx.Document()\n",
    "doc.add_paragraph('world')\n",
    "doc.save('hello.docx')"
   ]
  },
  {
   "cell_type": "markdown",
   "id": "5cfc8a4c",
   "metadata": {},
   "source": [
    "##### ques 11.How do you add a paragraph with the text 'Hello, there!' to a Document object stored in a variable named doc?"
   ]
  },
  {
   "cell_type": "code",
   "execution_count": 11,
   "id": "498f66b6",
   "metadata": {},
   "outputs": [],
   "source": [
    "doc = docx.Document()\n",
    "doc.add_paragraph('Hello,there!')\n",
    "doc.save('hellothere.docx')"
   ]
  },
  {
   "cell_type": "markdown",
   "id": "e9529559",
   "metadata": {},
   "source": [
    "##### ques 12. What integers represent the levels of headings available in Word documents?\n"
   ]
  },
  {
   "cell_type": "code",
   "execution_count": null,
   "id": "011a9e5c",
   "metadata": {},
   "outputs": [],
   "source": []
  },
  {
   "cell_type": "code",
   "execution_count": null,
   "id": "e970b24c",
   "metadata": {},
   "outputs": [],
   "source": []
  },
  {
   "cell_type": "markdown",
   "id": "b0d812ab",
   "metadata": {},
   "source": []
  }
 ],
 "metadata": {
  "kernelspec": {
   "display_name": "Python 3 (ipykernel)",
   "language": "python",
   "name": "python3"
  },
  "language_info": {
   "codemirror_mode": {
    "name": "ipython",
    "version": 3
   },
   "file_extension": ".py",
   "mimetype": "text/x-python",
   "name": "python",
   "nbconvert_exporter": "python",
   "pygments_lexer": "ipython3",
   "version": "3.9.7"
  }
 },
 "nbformat": 4,
 "nbformat_minor": 5
}
