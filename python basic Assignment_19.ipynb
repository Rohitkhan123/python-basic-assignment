{
 "cells": [
  {
   "cell_type": "markdown",
   "id": "52edf8ab",
   "metadata": {},
   "source": [
    "### Assignment 19 "
   ]
  },
  {
   "cell_type": "markdown",
   "id": "ae2dc706",
   "metadata": {},
   "source": [
    "##### ques 1.Make a class called Thing with no contents and print it. Then, create an object called example from this class and also print it. Are the printed values the same or different?"
   ]
  },
  {
   "cell_type": "code",
   "execution_count": 19,
   "id": "6e781297",
   "metadata": {},
   "outputs": [
    {
     "name": "stdout",
     "output_type": "stream",
     "text": [
      "<class '__main__.Thing'>\n"
     ]
    }
   ],
   "source": [
    "class Thing:\n",
    "    pass\n",
    "print(Thing)"
   ]
  },
  {
   "cell_type": "code",
   "execution_count": 21,
   "id": "469e5a46",
   "metadata": {},
   "outputs": [
    {
     "name": "stdout",
     "output_type": "stream",
     "text": [
      "<__main__.Thing object at 0x00000272A8FA03D0>\n"
     ]
    }
   ],
   "source": [
    "example = Thing()\n",
    "print(example)"
   ]
  },
  {
   "cell_type": "markdown",
   "id": "6a5f274c",
   "metadata": {},
   "source": [
    "##### ques 2.reate a new class called Thing2 and add the value 'abc' to the letters class attribute. Letters should be printed.\n"
   ]
  },
  {
   "cell_type": "code",
   "execution_count": 22,
   "id": "3dd055e1",
   "metadata": {},
   "outputs": [
    {
     "name": "stdout",
     "output_type": "stream",
     "text": [
      "abc\n"
     ]
    }
   ],
   "source": [
    "class Thing2:\n",
    "    letters = 'abc'\n",
    "print(Thing2.letters)"
   ]
  },
  {
   "cell_type": "markdown",
   "id": "d7b18025",
   "metadata": {},
   "source": [
    "##### ques 3.Make yet another class called, of course, Thing3. This time, assign the value 'xyz' to an instance (object) attribute called letters. Print letters. Do you need to make an object from the class to do this?"
   ]
  },
  {
   "cell_type": "code",
   "execution_count": 24,
   "id": "24a94745",
   "metadata": {},
   "outputs": [
    {
     "name": "stdout",
     "output_type": "stream",
     "text": [
      "xyz\n"
     ]
    }
   ],
   "source": [
    "class Thing3:    \n",
    "    def __init__(self):\n",
    "        self.letters = 'xyz'\n",
    "        \n",
    "try:        \n",
    "    print(Thing3.letters) # Will raise a syntax Error\n",
    "except:\n",
    "    my_thing = Thing3()\n",
    "    print(my_thing.letters)"
   ]
  },
  {
   "cell_type": "markdown",
   "id": "2ef1bb3b",
   "metadata": {},
   "source": [
    "##### ques 4. Create an Element class with the instance attributes name, symbol, and number. Create a class object with the values 'Hydrogen,' 'H,' and 1."
   ]
  },
  {
   "cell_type": "code",
   "execution_count": 26,
   "id": "74091f1f",
   "metadata": {},
   "outputs": [],
   "source": [
    "class Element:   \n",
    "    def __init__(self, name, symbol, number):\n",
    "        self.name = name\n",
    "        self.symbol = symbol\n",
    "        self.number = number\n",
    "\n",
    "my_elements = Element('Hydrogen','H',1)"
   ]
  },
  {
   "cell_type": "markdown",
   "id": "70227de0",
   "metadata": {},
   "source": [
    "##### ques 5.Make a dictionary with these keys and values: 'name': 'Hydrogen', 'symbol': 'H', 'number': 1. Then, create an object called hydrogen from class Element using this dictionary."
   ]
  },
  {
   "cell_type": "code",
   "execution_count": 27,
   "id": "32b53354",
   "metadata": {},
   "outputs": [
    {
     "data": {
      "text/plain": [
       "'Hydrogen'"
      ]
     },
     "execution_count": 27,
     "metadata": {},
     "output_type": "execute_result"
    }
   ],
   "source": [
    "#Starting with the dictionary:\n",
    "el_dict = {'name': 'Hydrogen', 'symbol': 'H', 'number': 1}\n",
    "#Creating object called hydrogen from class Element using el_dict\n",
    "hydrogen = Element(el_dict['name'], el_dict['symbol'], el_dict['number'])\n",
    "hydrogen.name"
   ]
  },
  {
   "cell_type": "code",
   "execution_count": 28,
   "id": "d40a208c",
   "metadata": {},
   "outputs": [
    {
     "data": {
      "text/plain": [
       "'Hydrogen'"
      ]
     },
     "execution_count": 28,
     "metadata": {},
     "output_type": "execute_result"
    }
   ],
   "source": [
    "hydrogen = Element(**el_dict)\n",
    "hydrogen.name"
   ]
  },
  {
   "cell_type": "markdown",
   "id": "711e9478",
   "metadata": {},
   "source": [
    "##### ques 6.For the Element class, define a method called dump() that prints the values of the object’s attributes (name, symbol, and number). Create the hydrogen object from this new definition and use dump() to print its attributes."
   ]
  },
  {
   "cell_type": "code",
   "execution_count": 30,
   "id": "337be047",
   "metadata": {},
   "outputs": [
    {
     "name": "stdout",
     "output_type": "stream",
     "text": [
      "name=Hydrogen, symbol=H, number=1\n"
     ]
    }
   ],
   "source": [
    "class Element:\n",
    "    def __init__(self, name, symbol, number):\n",
    "        self.name = name\n",
    "        self.symbol = symbol\n",
    "        self.number = number\n",
    "    def dump(self):\n",
    "        print('name=%s, symbol=%s, number=%s' %(self.name, self.symbol, self.number))\n",
    "hydrogen = Element(**el_dict)\n",
    "hydrogen.dump()"
   ]
  },
  {
   "cell_type": "markdown",
   "id": "e116e372",
   "metadata": {},
   "source": [
    "##### ques 7.Call print(hydrogen). In the definition of Element, change the name of method dump to str, create a new hydrogen object, and call print(hydrogen) again."
   ]
  },
  {
   "cell_type": "code",
   "execution_count": 31,
   "id": "e09ee743",
   "metadata": {},
   "outputs": [
    {
     "name": "stdout",
     "output_type": "stream",
     "text": [
      "<__main__.Element object at 0x00000272A8FA0D00>\n"
     ]
    }
   ],
   "source": [
    "print(hydrogen)"
   ]
  },
  {
   "cell_type": "code",
   "execution_count": 32,
   "id": "ff62cd00",
   "metadata": {},
   "outputs": [
    {
     "name": "stdout",
     "output_type": "stream",
     "text": [
      "name=Hydrogen, symbol=H, number=1\n"
     ]
    }
   ],
   "source": [
    "class Element:\n",
    "    def __init__(self, name, symbol, number):\n",
    "        self.name = name\n",
    "        self.symbol = symbol\n",
    "        self.number = number\n",
    "    def __str__(self):\n",
    "        return ('name=%s, symbol=%s, number=%s' %(self.name, self.symbol, self.number))\n",
    "\n",
    "hydrogen = Element(**el_dict)\n",
    "print(hydrogen)"
   ]
  },
  {
   "cell_type": "markdown",
   "id": "ea6a30e9",
   "metadata": {},
   "source": [
    "##### ques 8.Modify Element to make the attributes name, symbol, and number private. Define a getter property for each to return its value."
   ]
  },
  {
   "cell_type": "code",
   "execution_count": 34,
   "id": "5648ac7e",
   "metadata": {},
   "outputs": [],
   "source": [
    "class Element:\n",
    "    def __init__(self, name, symbol, number):\n",
    "        self.__name = name\n",
    "        self.__symbol = symbol\n",
    "        self.__number = number\n",
    "    @property    \n",
    "    def name(self):\n",
    "        return self.__name\n",
    "    @property\n",
    "    def symbol(self):\n",
    "        return self.__symbol\n",
    "    @property\n",
    "    def number(self):\n",
    "        return self.__number\n",
    "hydrogen = Element('Hydrogen', 'H', 1)"
   ]
  },
  {
   "cell_type": "code",
   "execution_count": 35,
   "id": "b3ca6642",
   "metadata": {},
   "outputs": [
    {
     "data": {
      "text/plain": [
       "'Hydrogen'"
      ]
     },
     "execution_count": 35,
     "metadata": {},
     "output_type": "execute_result"
    }
   ],
   "source": [
    "hydrogen.name"
   ]
  },
  {
   "cell_type": "code",
   "execution_count": 36,
   "id": "f2a574c4",
   "metadata": {},
   "outputs": [
    {
     "data": {
      "text/plain": [
       "'H'"
      ]
     },
     "execution_count": 36,
     "metadata": {},
     "output_type": "execute_result"
    }
   ],
   "source": [
    "hydrogen.symbol"
   ]
  },
  {
   "cell_type": "code",
   "execution_count": 37,
   "id": "eec90c8d",
   "metadata": {},
   "outputs": [
    {
     "data": {
      "text/plain": [
       "1"
      ]
     },
     "execution_count": 37,
     "metadata": {},
     "output_type": "execute_result"
    }
   ],
   "source": [
    "hydrogen.number"
   ]
  },
  {
   "cell_type": "markdown",
   "id": "baf115f3",
   "metadata": {},
   "source": [
    "##### ques 9.Define three classes: Bear, Rabbit, and Octothorpe. For each, define only one method: eats(). This should return 'berries' (Bear), 'clover' (Rabbit), or 'campers' (Octothorpe). Create one object from each and print what it eats."
   ]
  },
  {
   "cell_type": "code",
   "execution_count": 38,
   "id": "ddf842de",
   "metadata": {},
   "outputs": [],
   "source": [
    "class Bear:\n",
    "    def eats(self):\n",
    "        return 'berries'\n",
    "    \n",
    "class Rabbit:\n",
    "    def eats(self):\n",
    "        return 'clover'\n",
    "\n",
    "class Octothorpe:\n",
    "    def eats(self):\n",
    "        return 'campers'\n",
    "    \n",
    "b = Bear()\n",
    "r = Rabbit()\n",
    "o = Octothorpe()"
   ]
  },
  {
   "cell_type": "code",
   "execution_count": 39,
   "id": "c12f16f3",
   "metadata": {},
   "outputs": [
    {
     "name": "stdout",
     "output_type": "stream",
     "text": [
      "berries\n"
     ]
    }
   ],
   "source": [
    "print(b.eats())"
   ]
  },
  {
   "cell_type": "code",
   "execution_count": 40,
   "id": "e14e78b5",
   "metadata": {},
   "outputs": [
    {
     "name": "stdout",
     "output_type": "stream",
     "text": [
      "clover\n"
     ]
    }
   ],
   "source": [
    "print(r.eats())"
   ]
  },
  {
   "cell_type": "code",
   "execution_count": 41,
   "id": "813fe7c1",
   "metadata": {},
   "outputs": [
    {
     "name": "stdout",
     "output_type": "stream",
     "text": [
      "campers\n"
     ]
    }
   ],
   "source": [
    "print(o.eats())"
   ]
  },
  {
   "cell_type": "markdown",
   "id": "3f0cba8c",
   "metadata": {},
   "source": [
    "##### ques 10.Define these classes: Laser, Claw, and SmartPhone. Each has only one method: does(). This returns 'disintegrate' (Laser), 'crush' (Claw), or 'ring' (SmartPhone). Then, define the class Robot that has one instance (object) of each of these. Define a does() method for the Robot that prints what its component objects do."
   ]
  },
  {
   "cell_type": "code",
   "execution_count": 42,
   "id": "9ff16c8f",
   "metadata": {},
   "outputs": [],
   "source": [
    "class Laser:\n",
    "    def does(self):\n",
    "        return 'disintegrate'\n",
    "\n",
    "class Claw:\n",
    "    def does(self):\n",
    "        return 'crush'\n",
    "    \n",
    "class SmartPhone:\n",
    "    def does(self):\n",
    "        return 'ring'\n",
    "    \n",
    "class Robot:\n",
    "    def __init__(self):\n",
    "        self.laser = Laser()\n",
    "        self.claw = Claw()\n",
    "        self.smartphone = SmartPhone()\n",
    "        \n",
    "    def does(self):\n",
    "        return '''I have many attachments:\n",
    "        My laser, to %s.\n",
    "        My claw, to %s.\n",
    "        My smartphone, to %s.''' % (self.laser.does(),self.claw.does(),self.smartphone.does() )"
   ]
  },
  {
   "cell_type": "code",
   "execution_count": 43,
   "id": "23207c0c",
   "metadata": {},
   "outputs": [],
   "source": [
    "robbie = Robot()"
   ]
  },
  {
   "cell_type": "code",
   "execution_count": 44,
   "id": "cfda136e",
   "metadata": {},
   "outputs": [
    {
     "name": "stdout",
     "output_type": "stream",
     "text": [
      "I have many attachments:\n",
      "        My laser, to disintegrate.\n",
      "        My claw, to crush.\n",
      "        My smartphone, to ring.\n"
     ]
    }
   ],
   "source": [
    "print( robbie.does())"
   ]
  }
 ],
 "metadata": {
  "kernelspec": {
   "display_name": "Python 3 (ipykernel)",
   "language": "python",
   "name": "python3"
  },
  "language_info": {
   "codemirror_mode": {
    "name": "ipython",
    "version": 3
   },
   "file_extension": ".py",
   "mimetype": "text/x-python",
   "name": "python",
   "nbconvert_exporter": "python",
   "pygments_lexer": "ipython3",
   "version": "3.9.7"
  }
 },
 "nbformat": 4,
 "nbformat_minor": 5
}
